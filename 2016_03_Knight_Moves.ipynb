{
  "nbformat": 4,
  "nbformat_minor": 0,
  "metadata": {
    "colab": {
      "name": "2016_03_Knight_Moves.ipynb",
      "provenance": [],
      "authorship_tag": "ABX9TyMB8CMafaQ2/n/VtiYDQKGz",
      "include_colab_link": true
    },
    "kernelspec": {
      "name": "python3",
      "display_name": "Python 3"
    },
    "language_info": {
      "name": "python"
    }
  },
  "cells": [
    {
      "cell_type": "markdown",
      "metadata": {
        "id": "view-in-github",
        "colab_type": "text"
      },
      "source": [
        "<a href=\"https://colab.research.google.com/github/evansemet/Jane-Street-Solutions/blob/main/2016_03_Knight_Moves.ipynb\" target=\"_parent\"><img src=\"https://colab.research.google.com/assets/colab-badge.svg\" alt=\"Open In Colab\"/></a>"
      ]
    },
    {
      "cell_type": "code",
      "execution_count": 78,
      "metadata": {
        "colab": {
          "base_uri": "https://localhost:8080/"
        },
        "id": "KdEPR9_MZRWk",
        "outputId": "2c214ba2-9649-4833-cebc-7b2f1b619cf1"
      },
      "outputs": [
        {
          "output_type": "stream",
          "name": "stdout",
          "text": [
            "Requirement already satisfied: z3-solver in /usr/local/lib/python3.7/dist-packages (4.8.15.0)\n"
          ]
        }
      ],
      "source": [
        "!pip install z3-solver\n",
        "import matplotlib.pyplot as plt\n",
        "import numpy as np\n",
        "import seaborn as sns\n",
        "import time\n",
        "from z3 import *"
      ]
    },
    {
      "cell_type": "code",
      "source": [
        "# info given\n",
        "rowsGiven = np.array([10, 34, 108, 67, 63, 84, 24, 16], dtype=int)\n",
        "colsGiven = np.array([7, 14, 72, 66, 102, 90, 42, 13], dtype=int)"
      ],
      "metadata": {
        "id": "1hNJaxi5ZYkh"
      },
      "execution_count": 79,
      "outputs": []
    },
    {
      "cell_type": "code",
      "source": [
        "# solve function using Z3\n",
        "def solve():\n",
        "  print(\"Solving...\")\n",
        "  start = time.time()\n",
        "  s = Tactic(\"qffd\").solver()\n",
        "  X = np.array(IntVector(\"x\", 8 ** 2), dtype=object).reshape((8, 8))\n",
        "\n",
        "  # spots given\n",
        "  s += [X[2][3] == 11]\n",
        "  s += [X[3][5] == 14]\n",
        "  s += [X[4][2] == 8]\n",
        "  s += [X[5][4] == 15]\n",
        "\n",
        "  # make sure sums match\n",
        "  s += [np.sum(X[r, :]) == int(val) for r, val in np.ndenumerate(rowsGiven)]\n",
        "  s += [np.sum(X[:, c]) == int(val) for c, val in np.ndenumerate(colsGiven)]\n",
        "\n",
        "  # makes sure everything from 0 to 28 and every positive number occurs once\n",
        "  s += [And(val >= 0, val <= 28) for pos, val in np.ndenumerate(X)]\n",
        "  s += [PbEq([(val == n, 1) for (r, c), val in np.ndenumerate(X)], 1) for n in range(1,29)]\n",
        "\n",
        "  def moves(i, j, N):\n",
        "    moves = [(2, 1), (1, 2), (-1, 2), (-2, 1), (-2, -1), (-1, -2), (1, -2), (2, -1)]\n",
        "    return [(i + x, j + y) for x, y in moves if i + x >= 0 and i + x < N and j + y >= 0 and j + y < N]\n",
        "  # moves in the pattern of a knight\n",
        "  s += [Or(val == 0, val == 1, PbEq([(X[k][l] == val - 1, 1) for k, l in moves(i, j, 8)], 1)) for (i, j), val in np.ndenumerate(X)] \n",
        "\n",
        "  if s.check() == sat:\n",
        "    m = s.model()\n",
        "    evalu = np.vectorize(lambda x: m.evaluate(x).as_long())\n",
        "    r = evalu(X)\n",
        "    fig, ax = plt.subplots(1, 1, figsize=(4, 4))\n",
        "    ax = sns.heatmap(r == 0, annot=r, cbar=False, cmap=\"tab20\", linecolor='k', linewidth=2, annot_kws={\"fontsize\":14})\n",
        "    ax.axis(\"off\")\n",
        "    print(f\"Solved in {time.time() - start} seconds.\")\n",
        "  else:\n",
        "    print(f\"Failed in {time.time() - start} seconds.\")"
      ],
      "metadata": {
        "id": "SgWzPGjTZqQx"
      },
      "execution_count": 80,
      "outputs": []
    },
    {
      "cell_type": "code",
      "source": [
        "# runs the code\n",
        "solve()"
      ],
      "metadata": {
        "colab": {
          "base_uri": "https://localhost:8080/",
          "height": 283
        },
        "id": "yrreeN_nrSTW",
        "outputId": "49a6bdbf-0bf5-4e9e-9eed-79d1d47e5f32"
      },
      "execution_count": 81,
      "outputs": [
        {
          "output_type": "stream",
          "name": "stdout",
          "text": [
            "Solving...\n",
            "Solved in 3.58530330657959 seconds.\n"
          ]
        },
        {
          "output_type": "display_data",
          "data": {
            "text/plain": [
              "<Figure size 288x288 with 1 Axes>"
            ],
            "image/png": "[encoded data removed]"
          },
          "metadata": {
            "needs_background": "light"
          }
        }
      ]
    }
  ]
}