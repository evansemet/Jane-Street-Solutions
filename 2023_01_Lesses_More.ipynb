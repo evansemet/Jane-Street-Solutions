{
  "nbformat": 4,
  "nbformat_minor": 0,
  "metadata": {
    "colab": {
      "provenance": [],
      "authorship_tag": "ABX9TyM910mjkIbX+q2f9Yoght7F",
      "include_colab_link": true
    },
    "kernelspec": {
      "name": "python3",
      "display_name": "Python 3"
    },
    "language_info": {
      "name": "python"
    }
  },
  "cells": [
    {
      "cell_type": "markdown",
      "metadata": {
        "id": "view-in-github",
        "colab_type": "text"
      },
      "source": [
        "<a href=\"https://colab.research.google.com/github/evansemet/Jane-Street-Solutions/blob/main/2023_01_Lesses_More.ipynb\" target=\"_parent\"><img src=\"https://colab.research.google.com/assets/colab-badge.svg\" alt=\"Open In Colab\"/></a>"
      ]
    },
    {
      "cell_type": "code",
      "source": [
        "from math import ceil\n",
        "import numba\n",
        "from time import time"
      ],
      "metadata": {
        "id": "Ek6plJu23KZM"
      },
      "execution_count": null,
      "outputs": []
    },
    {
      "cell_type": "code",
      "execution_count": null,
      "metadata": {
        "id": "TDjfBdBIam4_"
      },
      "outputs": [],
      "source": [
        "@numba.njit\n",
        "def f(a, b, c, d, acc):\n",
        "  if a == 0 and b == 0 and c == 0 and d == 0:\n",
        "    return acc + 1\n",
        "  a1 = abs(a - b); b1 = abs(b - c); c1 = abs(c - d); d1 = abs(d - a)\n",
        "  return f(a1, b1, c1, d1, acc + 1)"
      ]
    },
    {
      "cell_type": "code",
      "source": [
        "# Step 1\n",
        "# Brute force for N <= 100 and check for patterns\n",
        "\n",
        "N = 10**2 + 1\n",
        "res = [[]] * 25\n",
        "\n",
        "for a in range(N):\n",
        "  for b in range(N):\n",
        "    for c in range(N):\n",
        "      for d in range(N):\n",
        "        val = f(a, b, c, d, 0)\n",
        "        if res[val] == [] or a + b + c + d < sum(res[val]):\n",
        "          res[val] = [a, b, c, d]\n",
        "\n",
        "for idx,combo in enumerate(res):\n",
        "  if combo != []:\n",
        "    print(f\"{idx}: {combo[0]},{combo[1]},{combo[2]},{combo[3]}\")"
      ],
      "metadata": {
        "colab": {
          "base_uri": "https://localhost:8080/"
        },
        "id": "maFXfYO_UWHP",
        "outputId": "bea80b06-ae72-409b-f8a9-1b1b4ac4db95"
      },
      "execution_count": null,
      "outputs": [
        {
          "output_type": "stream",
          "name": "stdout",
          "text": [
            "1: 0,0,0,0\n",
            "2: 1,1,1,1\n",
            "3: 0,1,0,1\n",
            "4: 0,0,1,1\n",
            "5: 0,0,0,1\n",
            "6: 0,1,2,3\n",
            "7: 0,0,1,3\n",
            "8: 0,1,2,4\n",
            "9: 0,1,4,9\n",
            "10: 0,2,5,11\n",
            "11: 0,2,6,13\n",
            "12: 0,5,14,31\n",
            "13: 0,6,17,37\n",
            "14: 0,7,20,44\n"
          ]
        }
      ]
    },
    {
      "cell_type": "code",
      "source": [
        "# Step 2\n",
        "# We now can clearly see that a is always 0\n",
        "# If we ignore very low values of f then a < b < c < d\n",
        "# Using a slightly more optimized set of loops, check to see\n",
        "# if the lowest given is just the first one that our loop spits out\n",
        "\n",
        "N = 10**2 + 1\n",
        "res = [[]] * 15\n",
        "\n",
        "for b in range(1, N - 2):\n",
        "  for c in range(b + 1, N - 1):\n",
        "    for d in range(c + 1, N):\n",
        "      val = f(0, b, c, d, 0)\n",
        "      if res[val] == []:\n",
        "        res[val] = [0, b, c, d]\n",
        "\n",
        "for idx,combo in enumerate(res):\n",
        "  if combo != []:\n",
        "    print(f\"{idx}: {combo[0]},{combo[1]},{combo[2]},{combo[3]}\")"
      ],
      "metadata": {
        "colab": {
          "base_uri": "https://localhost:8080/"
        },
        "id": "purKXKjFXCxi",
        "outputId": "efe8e048-e3b9-481e-856d-96c53d73e334"
      },
      "execution_count": null,
      "outputs": [
        {
          "output_type": "stream",
          "name": "stdout",
          "text": [
            "6: 0,1,2,3\n",
            "7: 0,1,3,6\n",
            "8: 0,1,2,4\n",
            "9: 0,1,4,9\n",
            "10: 0,2,5,11\n",
            "11: 0,2,6,13\n",
            "12: 0,5,14,31\n",
            "13: 0,6,17,37\n",
            "14: 0,7,20,44\n"
          ]
        }
      ]
    },
    {
      "cell_type": "code",
      "source": [
        "# Step 3\n",
        "# We have confirmed that the first value it gets through these loops is the lowest\n",
        "# sum of a, b, c, d for that value of f (if we ignore trivally small ones)\n",
        "# Try for N <= 500 and look for more patterns\n",
        "\n",
        "N = 10**3 // 2 + 1\n",
        "res = [[]] * 50\n",
        "\n",
        "for b in range(1, N - 2):\n",
        "  for c in range(b + 1, N - 1):\n",
        "    for d in range(c + 1, N):\n",
        "      val = f(0, b, c, d, 0)\n",
        "      if res[val] == []:\n",
        "        res[val] = [0, b, c, d]\n",
        "\n",
        "for idx,combo in enumerate(res):\n",
        "  if combo != []:\n",
        "    print(f\"{idx}: {combo[0]},{combo[1]},{combo[2]},{combo[3]}\")"
      ],
      "metadata": {
        "colab": {
          "base_uri": "https://localhost:8080/"
        },
        "id": "truL-4nUYSJ-",
        "outputId": "da448771-72a1-4516-d8a2-cba725fe9336"
      },
      "execution_count": null,
      "outputs": [
        {
          "output_type": "stream",
          "name": "stdout",
          "text": [
            "6: 0,1,2,3\n",
            "7: 0,1,3,6\n",
            "8: 0,1,2,4\n",
            "9: 0,1,4,9\n",
            "10: 0,2,5,11\n",
            "11: 0,2,6,13\n",
            "12: 0,5,14,31\n",
            "13: 0,6,17,37\n",
            "14: 0,7,20,44\n",
            "15: 0,17,48,105\n",
            "16: 0,20,57,125\n",
            "17: 0,24,68,149\n",
            "18: 0,57,162,355\n",
            "19: 0,68,193,423\n"
          ]
        }
      ]
    },
    {
      "cell_type": "code",
      "source": [
        "# Step 4\n",
        "# From the above we always have that:\n",
        "# b * 2 <= c\n",
        "# b * 4 >= c\n",
        "# c * 1.5 <= d\n",
        "# c * 2.5 >= d\n",
        "# Looks like it can be narrowed down more if we ignore the first few\n",
        "# and treat as outliers but need to see for higher N to be sure\n",
        "# Run for N <= 1000\n",
        "\n",
        "N = 10**3 + 1\n",
        "res = [[]] * 50\n",
        "\n",
        "for b in range(1, int(N / (2 * 1.5))):\n",
        "  for c in range(b * 2, b * 4 + 1):\n",
        "    for d in range(int(c * 1.5), int(c * 2.5)):\n",
        "      val = f(0, b, c, d, 0)\n",
        "      if res[val] == []:\n",
        "        res[val] = [0, b, c, d]\n",
        "\n",
        "for idx,combo in enumerate(res):\n",
        "  if combo != []:\n",
        "    print(f\"{idx}: {combo[0]},{combo[1]},{combo[2]},{combo[3]}\")"
      ],
      "metadata": {
        "colab": {
          "base_uri": "https://localhost:8080/"
        },
        "id": "7VK1GLhUZMno",
        "outputId": "13633898-7acc-4038-f3a3-c68d26e51ccf"
      },
      "execution_count": null,
      "outputs": [
        {
          "output_type": "stream",
          "name": "stdout",
          "text": [
            "6: 0,1,2,3\n",
            "7: 0,1,3,6\n",
            "8: 0,1,2,4\n",
            "9: 0,1,4,9\n",
            "10: 0,2,5,11\n",
            "11: 0,2,6,13\n",
            "12: 0,5,14,31\n",
            "13: 0,6,17,37\n",
            "14: 0,7,20,44\n",
            "15: 0,17,48,105\n",
            "16: 0,20,57,125\n",
            "17: 0,24,68,149\n",
            "18: 0,57,162,355\n",
            "19: 0,68,193,423\n",
            "20: 0,81,230,504\n",
            "21: 0,193,548,1201\n",
            "22: 0,230,653,1431\n",
            "23: 0,274,778,1705\n"
          ]
        }
      ]
    },
    {
      "cell_type": "code",
      "source": [
        "# Step 5\n",
        "# Narrow it down again\n",
        "# Try for N <= 200,000\n",
        "\n",
        "N = 10**5 * 2 + 1\n",
        "res = [[]] * 50\n",
        "\n",
        "for b in range(10**2, ceil(N / (2.84 * 2.192))):\n",
        "  for c in range(ceil(b * 2.839), ceil(b * 2.84)):\n",
        "    for d in range(ceil(c * 2.191), ceil(c * 2.192)):\n",
        "      val = f(0, b, c, d, 0)\n",
        "      if res[val] == []:\n",
        "        res[val] = [0, b, c, d]\n",
        "\n",
        "for idx,combo in enumerate(res):\n",
        "  if combo != []:\n",
        "    print(f\"{idx}: {combo[0]},{combo[1]},{combo[2]},{combo[3]}\")"
      ],
      "metadata": {
        "colab": {
          "base_uri": "https://localhost:8080/"
        },
        "id": "qWyfmGh2a8w2",
        "outputId": "96410769-ac08-4c1a-f850-3362abc6c64f"
      },
      "execution_count": null,
      "outputs": [
        {
          "output_type": "stream",
          "name": "stdout",
          "text": [
            "19: 0,112,318,697\n",
            "20: 0,162,460,1008\n",
            "21: 0,193,548,1201\n",
            "22: 0,230,653,1431\n",
            "23: 0,274,778,1705\n",
            "24: 0,653,1854,4063\n",
            "25: 0,778,2209,4841\n",
            "26: 0,927,2632,5768\n",
            "27: 0,2209,6272,13745\n",
            "28: 0,2632,7473,16377\n",
            "29: 0,3136,8904,19513\n",
            "30: 0,7473,21218,46499\n",
            "31: 0,8904,25281,55403\n",
            "32: 0,10609,30122,66012\n",
            "33: 0,25281,71780,157305\n",
            "34: 0,30122,85525,187427\n"
          ]
        }
      ]
    },
    {
      "cell_type": "code",
      "source": [
        "# Step 6\n",
        "# Narrow it down one last time\n",
        "# Try for N <= 1,000,000\n",
        "\n",
        "N = 10**6 + 1\n",
        "res = [[]] * 50\n",
        "\n",
        "for b in range(10**4, ceil(N / (2.8393 * 2.1915))):\n",
        "  for c in range(ceil(b * 2.8392), ceil(b * 2.8393)):\n",
        "    for d in range(ceil(c * 2.1914), ceil(c * 2.1915)):\n",
        "      val = f(0, b, c, d, 0)\n",
        "      if res[val] == []:\n",
        "        res[val] = [0, b, c, d]\n",
        "\n",
        "for idx,combo in enumerate(res):\n",
        "  if combo != []:\n",
        "    print(f\"{idx}: {combo[0]},{combo[1]},{combo[2]},{combo[3]}\")"
      ],
      "metadata": {
        "colab": {
          "base_uri": "https://localhost:8080/"
        },
        "id": "kCVTD3T_iP7p",
        "outputId": "cb7549a2-b650-4c13-ae8e-1d139ce7682a"
      },
      "execution_count": null,
      "outputs": [
        {
          "output_type": "stream",
          "name": "stdout",
          "text": [
            "22: 0,10000,28392,62219\n",
            "23: 0,10001,28395,62226\n",
            "24: 0,10000,28392,62220\n",
            "25: 0,10010,28421,62284\n",
            "26: 0,10002,28398,62234\n",
            "27: 0,10006,28410,62260\n",
            "28: 0,10024,28461,62372\n",
            "29: 0,10061,28566,62602\n",
            "30: 0,10105,28691,62876\n",
            "31: 0,12040,34185,74916\n",
            "32: 0,10609,30122,66012\n",
            "33: 0,25281,71780,157305\n",
            "34: 0,30122,85525,187427\n",
            "35: 0,35890,101902,223317\n",
            "36: 0,85525,242830,532159\n",
            "37: 0,101902,289329,634061\n",
            "38: 0,121415,344732,755476\n"
          ]
        }
      ]
    },
    {
      "cell_type": "code",
      "source": [
        "# Step 7\n",
        "# Solve\n",
        "\n",
        "N = 10**7 + 1\n",
        "res = [0,0,0,0]\n",
        "print(\"Solving...\")\n",
        "start = time()\n",
        "\n",
        "for b in range(10**6, ceil(N / (2.8392867 * 2.1914878))):\n",
        "  c = ceil(b * 2.8392867); d = ceil(c * 2.1914878)\n",
        "  val = f(0, b, c, d, 0)\n",
        "  if val > res[0]:\n",
        "    res[0] = val; res[1] = b; res[2] = c; res[3] = d\n",
        "\n",
        "print(\"Solved in {:.6f} seconds\\n\".format(time() - start))\n",
        "print(f\"M = {res[0]}\")\n",
        "print(f\"0;{res[1]};{res[2]};{res[3]}\")"
      ],
      "metadata": {
        "colab": {
          "base_uri": "https://localhost:8080/"
        },
        "id": "Ijgh8f9bbOwK",
        "outputId": "43869c51-295e-4bf6-a137-6628caa43722"
      },
      "execution_count": null,
      "outputs": [
        {
          "output_type": "stream",
          "name": "stdout",
          "text": [
            "Solving...\n",
            "Solved in 0.802058 seconds\n",
            "\n",
            "M = 44\n",
            "0;1389537;3945294;8646064\n"
          ]
        }
      ]
    }
  ]
}