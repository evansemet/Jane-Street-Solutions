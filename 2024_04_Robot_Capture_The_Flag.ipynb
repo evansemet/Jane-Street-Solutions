{
 "cells": [
  {
   "cell_type": "code",
   "execution_count": 40,
   "metadata": {},
   "outputs": [],
   "source": [
    "import numpy as np\n",
    "from scipy.integrate import quad\n",
    "from scipy.optimize import minimize"
   ]
  },
  {
   "cell_type": "code",
   "execution_count": 43,
   "metadata": {},
   "outputs": [
    {
     "name": "stdout",
     "output_type": "stream",
     "text": [
      "Erin's optimal fixed distance: 0.5013072268\n",
      "Aaron's probability of winning: 0.1661864865\n"
     ]
    }
   ],
   "source": [
    "integral1 = lambda r: 2*r\n",
    "integral2 = lambda r, x: np.arcsin(np.abs(r-x)/r)/np.pi * 2*r\n",
    "numerical_integral = lambda x: quad(integral1, 0, x/2)[0] + quad(integral2, x/2, 1, args=(x,))[0]\n",
    "f_numerical = lambda g: numerical_integral(g.item())\n",
    "\n",
    "result = minimize(f_numerical, np.array([0.5], dtype=float), bounds=[(0, 1)], tol=1e-15, options={'maxiter': 20_000, 'disp': False})\n",
    "print(\"Erin's optimal fixed distance: {:.10f}\".format(result.x.item()))\n",
    "print(\"Aaron's probability of winning: {:.10f}\".format(result.fun))"
   ]
  }
 ],
 "metadata": {
  "kernelspec": {
   "display_name": "Python 3",
   "language": "python",
   "name": "python3"
  },
  "language_info": {
   "codemirror_mode": {
    "name": "ipython",
    "version": 3
   },
   "file_extension": ".py",
   "mimetype": "text/x-python",
   "name": "python",
   "nbconvert_exporter": "python",
   "pygments_lexer": "ipython3",
   "version": "3.12.1"
  }
 },
 "nbformat": 4,
 "nbformat_minor": 2
}
