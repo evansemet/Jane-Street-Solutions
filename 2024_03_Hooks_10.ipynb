{
 "cells": [
  {
   "cell_type": "markdown",
   "metadata": {},
   "source": [
    "## Import Necessary Libraries"
   ]
  },
  {
   "cell_type": "code",
   "execution_count": 2,
   "metadata": {},
   "outputs": [],
   "source": [
    "from z3 import *\n",
    "import numpy as np\n",
    "from itertools import product\n",
    "from skimage.morphology import label\n",
    "from scipy.ndimage import measurements\n",
    "import matplotlib.pyplot as plt\n",
    "import seaborn as sns\n",
    "from IPython.display import Markdown, display\n",
    "import time\n",
    "import warnings\n",
    "warnings.filterwarnings(\"ignore\", message=\"Please use `label` from the `scipy.ndimage` namespace\")\n",
    "warnings.filterwarnings(\"ignore\", message=\"Please use `sum` from the `scipy.ndimage` namespace\")"
   ]
  },
  {
   "cell_type": "markdown",
   "metadata": {},
   "source": [
    "## Define the Grid and Print Functions"
   ]
  },
  {
   "cell_type": "code",
   "execution_count": 3,
   "metadata": {},
   "outputs": [],
   "source": [
    "grid = np.array([[  0, 18,  0,  0,  0,  0,  7,  0,  0],\n",
    "                 [  0,  0,  0,  0, 12,  0,  0,  0,  0],\n",
    "                 [  0,  0,  9,  0,  0,  0,  0, 31,  0],\n",
    "                 [  0,  0,  0,  0,  0,  0,  0,  0,  0],\n",
    "                 [  0,  5,  0, 11,  0, 22,  0, 22,  0],\n",
    "                 [  0,  0,  0,  0,  0,  0,  0,  0,  0],\n",
    "                 [  0,  9,  0,  0,  0,  0, 19,  0,  0],\n",
    "                 [  0,  0,  0,  0, 14,  0,  0,  0,  0],\n",
    "                 [  0,  0, 22,  0,  0,  0,  0, 15,  0]], dtype=int)\n",
    "\n",
    "def sol_print(numbers: np.ndarray, hooks: np.ndarray) -> None:\n",
    "    _,ax = plt.subplots(1,1,figsize=(8,8))\n",
    "    x = np.array((numbers).astype('int').astype('str'))\n",
    "    x[x==\"0\"] = \"-\"\n",
    "    ax = sns.heatmap(hooks,annot=x,cbar=False,cmap=\"tab10\",fmt=\"\",linewidths=0.25,annot_kws={\"fontsize\":12})\n",
    "    ax.set_xticks([])\n",
    "    ax.set_yticks([])\n",
    "    plt.tight_layout()\n",
    "    plt.show()\n",
    "\n",
    "def areas(grid: np.ndarray) -> int:\n",
    "    labels, num = measurements.label(np.logical_not(grid!=0))\n",
    "    areas = measurements.sum(np.logical_not(grid>=1), labels, index=range(1, num+1))\n",
    "    return int(np.prod(areas))"
   ]
  },
  {
   "cell_type": "markdown",
   "metadata": {},
   "source": [
    "## Hook Logic"
   ]
  },
  {
   "cell_type": "code",
   "execution_count": 4,
   "metadata": {},
   "outputs": [],
   "source": [
    "def make_hooks(n: int) -> np.ndarray:\n",
    "    matrix = np.ones((n, n), dtype=int) * (2*n -1)\n",
    "    matrix[1:,1:] = 0\n",
    "    return [np.rot90(matrix, i) for i in range(4)]\n",
    "\n",
    "hook_17, hook_15, hook_13, hook_11, hook_9, hook_7, hook_5, hook_3 = \\\n",
    "    make_hooks(9), make_hooks(8), make_hooks(7), make_hooks(6), make_hooks(5), make_hooks(4), make_hooks(3), make_hooks(2)\n",
    "    \n",
    "orthagonal = lambda i, j, N: [(i+di, j+dj) for (di,dj) in [(0,1),(1,0),(0,-1),(-1,0)] if 0<=i+di<N and 0<=j+dj<N]\n",
    "\n",
    "def hook_constraint(hook_number: int, board: np.ndarray, N: int) -> PbEq:\n",
    "    hook = dict[int, list]({17: hook_17, 15: hook_15, 13: hook_13, 11: hook_11, 9: hook_9, 7: hook_7, 5: hook_5, 3: hook_3}).get(hook_number)\n",
    "    shift = N+1 - (hook_number + 1) // 2\n",
    "    conditions = list[And]()\n",
    "    for shift_i, shift_j, h in product(range(shift), range(shift), hook):\n",
    "        conditions.append(And([board[i+shift_i][j+shift_j]==e for (i,j),e in np.ndenumerate(h) if e]))\n",
    "    return PbEq([(cond, 1) for cond in conditions], 1)"
   ]
  },
  {
   "cell_type": "markdown",
   "metadata": {},
   "source": [
    "## Add in Constraints and Solve"
   ]
  },
  {
   "cell_type": "code",
   "execution_count": 15,
   "metadata": {},
   "outputs": [
    {
     "data": {
      "text/markdown": [
       "## Total solve time of 2.551 seconds"
      ],
      "text/plain": [
       "<IPython.core.display.Markdown object>"
      ]
     },
     "metadata": {},
     "output_type": "display_data"
    },
    {
     "data": {
      "image/png": "[encoded data removed]",
      "text/plain": [
       "<Figure size 800x800 with 1 Axes>"
      ]
     },
     "metadata": {},
     "output_type": "display_data"
    },
    {
     "data": {
      "text/markdown": [
       "## Answer is: 8,400"
      ],
      "text/plain": [
       "<IPython.core.display.Markdown object>"
      ]
     },
     "metadata": {},
     "output_type": "display_data"
    }
   ],
   "source": [
    "start = time.time()\n",
    "N = len(grid)\n",
    "s = Solver()\n",
    "Y = np.array(IntVector(\"y\", N**2), dtype=object).reshape((N,N))\n",
    "X = np.array(IntVector(\"x\", N**2), dtype=object).reshape((N,N))\n",
    "\n",
    "s += [X[i][j]==0 for (i,j),e in np.ndenumerate(grid) if e!=0]\n",
    "s += [sum([X[i][j] for (i,j) in orthagonal(i, j, N)]) == grid[i][j] for (i,j),e in np.ndenumerate(grid) if e!=0]\n",
    "s += [Or(X[i][j]==0,X[i+1][j]==0,X[i][j+1]==0,X[i+1][j+1]==0) for i,j in product(range(N-1), repeat=2)]\n",
    "\n",
    "s += [And(val >= 0, val <= 9) for val in X.ravel()]\n",
    "s += [And(val >= 1, val <= 17) for val in Y.ravel()]\n",
    "s += Or([val==1 for val in Y.ravel()])\n",
    "s += [PbEq([(X[i][j] == n, 1) for (i,j),_ in np.ndenumerate(X)], n) for n in range(1, N+1)]\n",
    "s += [Implies(X[i][j]!=0, Or([X[ni][nj]!=0 for (ni,nj) in orthagonal(i, j, N)])) for (i,j),_ in np.ndenumerate(X)]\n",
    "\n",
    "for hook_number in [17, 15, 13, 11, 9, 7, 5, 3]:\n",
    "    s += hook_constraint(hook_number=hook_number, board=Y, N=N)\n",
    "\n",
    "s += [Implies(Y[i][j]==1, X[i][j]==1) for (i,j),_ in np.ndenumerate(grid)]\n",
    "s += [Implies(Y[i][j]>3, X[i][j]!=2) for (i,j),_ in np.ndenumerate(grid)]\n",
    "s += [X[i][j]<=Y[i][j] for (i,j),_ in np.ndenumerate(grid)]\n",
    "\n",
    "X17, X15, X13, X11, X9, X7, X5 = Ints(\"x17 x15 x13 x11 x9 x7 x5\")\n",
    "s += Distinct([X17, X15, X13, X11, X9, X7, X5])\n",
    "\n",
    "y_to_x_mapping = dict[int, list]({17: X17, 15: X15, 13: X13, 11: X11, 9: X9, 7: X7, 5: X5})\n",
    "for y_value, x_variable in y_to_x_mapping.items():\n",
    "    s += [Implies(Y[i][j]==y_value, Or(X[i][j]==x_variable, X[i][j] == 0)) for (i,j),_ in np.ndenumerate(Y)]\n",
    "\n",
    "while True:\n",
    "    if s.check():\n",
    "        m = s.model()\n",
    "        evalu = np.vectorize(lambda x: m.evaluate(x).as_long())\n",
    "        result_x = evalu(X)\n",
    "        if np.max(label(result_x!= 0, connectivity=1)) == 1:\n",
    "            display(Markdown('## Total solve time of {:.3f} seconds'.format(time.time()-start)))\n",
    "            sol_print(numbers=result_x, hooks=evalu(Y))\n",
    "            display(Markdown('## Answer is: {:,.0f}'.format((areas(result_x)))))\n",
    "            break\n",
    "        else:\n",
    "            s += Or([X[i][j]!=int(result_x[i][j]) for i,j in product(range(N), repeat=2)])"
   ]
  }
 ],
 "metadata": {
  "kernelspec": {
   "display_name": "Python 3",
   "language": "python",
   "name": "python3"
  },
  "language_info": {
   "codemirror_mode": {
    "name": "ipython",
    "version": 3
   },
   "file_extension": ".py",
   "mimetype": "text/x-python",
   "name": "python",
   "nbconvert_exporter": "python",
   "pygments_lexer": "ipython3",
   "version": "3.12.1"
  }
 },
 "nbformat": 4,
 "nbformat_minor": 2
}
