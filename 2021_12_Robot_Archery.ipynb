{
  "nbformat": 4,
  "nbformat_minor": 0,
  "metadata": {
    "colab": {
      "name": "2021_12_Robot_Archery.ipynb",
      "provenance": [],
      "authorship_tag": "ABX9TyMT87mOQiFdMPRtGr6crO5Z",
      "include_colab_link": true
    },
    "kernelspec": {
      "name": "python3",
      "display_name": "Python 3"
    },
    "language_info": {
      "name": "python"
    }
  },
  "cells": [
    {
      "cell_type": "markdown",
      "metadata": {
        "id": "view-in-github",
        "colab_type": "text"
      },
      "source": [
        "<a href=\"https://colab.research.google.com/github/evansemet/Jane-Street-Solutions/blob/main/2021_12_Robot_Archery.ipynb\" target=\"_parent\"><img src=\"https://colab.research.google.com/assets/colab-badge.svg\" alt=\"Open In Colab\"/></a>"
      ]
    },
    {
      "cell_type": "code",
      "source": [
        "import time"
      ],
      "metadata": {
        "id": "tstd2moGaZde"
      },
      "execution_count": 136,
      "outputs": []
    },
    {
      "cell_type": "code",
      "source": [
        "# initial order of robots\n",
        "order = []\n",
        "order.append('A')\n",
        "order.append('B')\n",
        "order.append('C')\n",
        "order.append('D')"
      ],
      "metadata": {
        "id": "OpJAfp2wzcBW"
      },
      "execution_count": 139,
      "outputs": []
    },
    {
      "cell_type": "code",
      "source": [
        "# solves via recursion\n",
        "def solve(queue, turn):\n",
        "  # if queue is down to last robot it means D won\n",
        "  if len(queue) == 1:\n",
        "    return 1.0\n",
        "\n",
        "  # used multiple times later so just calculated here once\n",
        "  fract = 1.0 / turn\n",
        "\n",
        "  # values become insignificant well before 100 anyway but this cuts it off\n",
        "  # from running forever\n",
        "  if turn > 100 and queue[0] == 'D':\n",
        "    return fract\n",
        "\n",
        "  # queue if robot up stays in\n",
        "  sucess = queue\n",
        "  sucess = queue[1:]\n",
        "  sucess.append(queue[0])\n",
        "\n",
        "  if queue[0] != 'D':\n",
        "    # queue if robot up loses\n",
        "    # only need to do this if D is not up because we don't care about times that D loses\n",
        "    fail = queue[1:]\n",
        "    return fract * solve(sucess, turn + 1) + (1 - fract) * solve(fail, turn + 1)\n",
        "  else:\n",
        "    return fract * solve(sucess, turn + 1)"
      ],
      "metadata": {
        "id": "6WFNxeEOYV73"
      },
      "execution_count": 141,
      "outputs": []
    },
    {
      "cell_type": "code",
      "source": [
        "# solves the problem\n",
        "start = time.time()\n",
        "print(\"Solving...\")\n",
        "print(\"Answer is {:.6f}\".format(solve(order, 1)))\n",
        "print(f\"Solved in {time.time() - start} seconds.\")"
      ],
      "metadata": {
        "colab": {
          "base_uri": "https://localhost:8080/"
        },
        "id": "3xij0LFyaSHL",
        "outputId": "521c7575-99e5-467b-a388-a48b4c78531c"
      },
      "execution_count": 142,
      "outputs": [
        {
          "output_type": "stream",
          "name": "stdout",
          "text": [
            "Solving...\n",
            "Answer is 0.183438\n",
            "Solved in 0.07124137878417969 seconds.\n"
          ]
        }
      ]
    }
  ]
}