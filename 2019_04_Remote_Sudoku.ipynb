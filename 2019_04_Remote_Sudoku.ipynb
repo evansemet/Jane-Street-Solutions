{
  "nbformat": 4,
  "nbformat_minor": 0,
  "metadata": {
    "colab": {
      "name": "2019_04_Remote Sudoku.ipynb",
      "provenance": [],
      "authorship_tag": "ABX9TyOBpdh3SrJY3SBVuCScJ3c0",
      "include_colab_link": true
    },
    "kernelspec": {
      "name": "python3",
      "display_name": "Python 3"
    },
    "language_info": {
      "name": "python"
    }
  },
  "cells": [
    {
      "cell_type": "markdown",
      "metadata": {
        "id": "view-in-github",
        "colab_type": "text"
      },
      "source": [
        "<a href=\"https://colab.research.google.com/github/evansemet/Jane-Street-Solutions/blob/main/2019_04_Remote_Sudoku.ipynb\" target=\"_parent\"><img src=\"https://colab.research.google.com/assets/colab-badge.svg\" alt=\"Open In Colab\"/></a>"
      ]
    },
    {
      "cell_type": "code",
      "execution_count": 2,
      "metadata": {
        "colab": {
          "base_uri": "https://localhost:8080/"
        },
        "id": "gI4PNKoSL9hw",
        "outputId": "52e3c382-1f1d-4fb9-ba7d-e1a94e275c81"
      },
      "outputs": [
        {
          "output_type": "stream",
          "name": "stdout",
          "text": [
            "Collecting z3-solver\n",
            "  Downloading z3_solver-4.8.15.0-py2.py3-none-manylinux1_x86_64.whl (33.0 MB)\n",
            "\u001b[K     |████████████████████████████████| 33.0 MB 2.2 MB/s \n",
            "\u001b[?25hInstalling collected packages: z3-solver\n",
            "Successfully installed z3-solver-4.8.15.0\n"
          ]
        }
      ],
      "source": [
        "!pip install z3-solver\n",
        "import matplotlib.pyplot as plt\n",
        "import numpy as np\n",
        "import seaborn as sns\n",
        "import time\n",
        "from z3 import *"
      ]
    },
    {
      "cell_type": "code",
      "source": [
        "# information given\n",
        "fixed = np.array([[2, 0, 0, 0, 7, 1, 8, 3, 6],\n",
        "                  [0, 0, 0, 0, 0, 0, 0, 2, 0],\n",
        "                  [0, 0, 5, 0, 0, 5, 4, 0, 2],\n",
        "                  [0, 0, 0, 1, 0, 0, 5, 0, 1],\n",
        "                  [8, 3, 3, 0, 1, 0, 2, 4, 4],\n",
        "                  [3, 0, 4, 0, 0, 3, 0, 0, 0],\n",
        "                  [6, 0, 2, 3, 0, 0, 5, 0, 0],\n",
        "                  [0, 4, 0, 0, 0, 0, 0, 0, 0],\n",
        "                  [7, 2, 7, 3, 1, 0, 0, 0, 3]], dtype=int)"
      ],
      "metadata": {
        "id": "psn8SY_aMh6w"
      },
      "execution_count": 3,
      "outputs": []
    },
    {
      "cell_type": "code",
      "source": [
        "# nice print function for output\n",
        "def sol_print(solution):\n",
        "    x= np.ones((3,3))\n",
        "    groups = np.block([[x*0, x*1, x*2], [x*3, x*4, x*5], [x*6, x*7, x*8]])\n",
        "    fig, ax = plt.subplots(1, 1, figsize=(4, 4))\n",
        "    y = (fixed > 0) + groups*2\n",
        "    ax = sns.heatmap(y, annot=solution, cbar=False, cmap=\"tab20\", fmt=\"\", linewidths=2, annot_kws={\"size\": 14})\n",
        "    ax.axis(\"off\")"
      ],
      "metadata": {
        "id": "v4PETAtmMub2"
      },
      "execution_count": 4,
      "outputs": []
    },
    {
      "cell_type": "code",
      "source": [
        "# solve function with the help of Z3\n",
        "def solve():\n",
        "    print(\"Solving...\")\n",
        "    start = time.time()\n",
        "    s = Solver()\n",
        "    X = np.array(IntVector(\"x\", 9*9), dtype=object).reshape((9, 9))\n",
        "\n",
        "    # standard rules\n",
        "    s += [And(e > 0, e <= 9) for _, e in np.ndenumerate(X)]\n",
        "    s += And([Distinct([e for (i, j), e in np.ndenumerate(X) if i == n]) for n in range(9)])\n",
        "    s += And([Distinct([e for (i, j), e in np.ndenumerate(X) if j == n]) for n in range(9)])\n",
        "    x = np.ones((3, 3))\n",
        "    groups = np.block([[x * 0, x * 1, x * 2], [x * 3, x * 4, x * 5], [x * 6, x * 7, x * 8]])\n",
        "    s += And([Distinct([e for (i, j), e in np.ndenumerate(X) if groups[i, j] == n]) for n in range(9)])\n",
        "\n",
        "    # remote constraint\n",
        "    def options(i, j, X, e):\n",
        "        spots = [(0, -e), (0, e), (e, 0), (-e, 0)]\n",
        "        return [X[i + x, j + y] for x, y in spots if (i + x >= 0 and i + x < 9 and j + y >= 0 and j + y < 9)]\n",
        "\n",
        "    s += [Or([a == int(e) for a in options(i, j, X, e)]) for (i, j), e in np.ndenumerate(fixed) if e > 0]\n",
        "\n",
        "    if s.check() == sat:\n",
        "        m = s.model()\n",
        "        evalu = np.vectorize(lambda x: m.evaluate(x).as_long())\n",
        "        r = evalu(X)\n",
        "        sol_print(r)\n",
        "        sum = np.sum((r[fixed > 0] ** 2))\n",
        "        print(f\"Solution found in {time.time() - start} seconds.\")\n",
        "        print(f\"Answer is {sum}.\")\n",
        "    else:\n",
        "        print(f\"Failed in {time.time() - start} seconds.\")"
      ],
      "metadata": {
        "id": "vpbhSgPUMzrM"
      },
      "execution_count": 43,
      "outputs": []
    },
    {
      "cell_type": "code",
      "source": [
        "# run code\n",
        "solve()"
      ],
      "metadata": {
        "colab": {
          "base_uri": "https://localhost:8080/",
          "height": 301
        },
        "id": "VYhEPQ0gNJhc",
        "outputId": "dafff120-4ad2-45a7-a955-9d3daca62579"
      },
      "execution_count": 44,
      "outputs": [
        {
          "output_type": "stream",
          "name": "stdout",
          "text": [
            "Solving...\n",
            "Solution found in 0.3129255771636963 seconds.\n",
            "Answer is 1105.\n"
          ]
        },
        {
          "output_type": "display_data",
          "data": {
            "text/plain": [
              "<Figure size 288x288 with 1 Axes>"
            ],
            "image/png": "[encoded data removed]"
          },
          "metadata": {
            "needs_background": "light"
          }
        }
      ]
    },
    {
      "cell_type": "code",
      "source": [
        "# another Z3 solver but this one was 'hard coded' and thus very error prone\n",
        "# For obvious reasons it's not prefered\n",
        "\n",
        "\n",
        "def solveHardCoded():\n",
        "    print(\"Solving...\")\n",
        "    start = time.time()\n",
        "    s = Solver()\n",
        "    X = [[Int(\"x_%s_%s\" % (i + 1, j + 1)) for j in range(9)] for i in range(9)]\n",
        "\n",
        "    # each cell contains a value in {1, ..., 9}\n",
        "    s += [And(X[i][j] >= 1, X[i][j] <= 9) for i in range(9) for j in range(9)]\n",
        "    # each row contains a digit at most once\n",
        "    s += [Distinct(X[i]) for i in range(9)]\n",
        "    # each column contains a digit at most once\n",
        "    s += [Distinct([X[i][j] for i in range(9)]) for j in range(9)]\n",
        "    # each 3x3 square contains a digit at most once\n",
        "    s += [Distinct([X[3 * i0 + i][3 * j0 + j] for i in range(3) for j in range(3)]) for i0 in range(3) for j0 in range(3)]\n",
        "\n",
        "    # first row rules\n",
        "    s += [Or(X[2][0] == 2, X[0][2] == 2)]\n",
        "    s += [X[7][4] == 7]\n",
        "    s += [Or(X[0][4] == 1, X[1][5] == 1, X[0][6] == 1)]\n",
        "    s += [X[8][6] == 8]\n",
        "    s += [Or(X[0][4] == 3, X[3][7] == 3)]\n",
        "    s += [Or(X[0][2] == 6, X[6][8] == 6)]\n",
        "\n",
        "    # second row rules\n",
        "    s += [Or(X[1][5] == 2, X[3][7] == 2)]\n",
        "\n",
        "    # third row rules\n",
        "    s += [Or(X[7][2] == 5, X[2][7] == 5)]\n",
        "    s += [Or(X[7][5] == 5, X[2][0] == 5)]\n",
        "    s += [Or(X[2][2] == 4, X[6][6] == 4)]\n",
        "    s += [Or(X[0][8] == 2, X[2][6] == 2, X[4][8] == 2)]\n",
        "\n",
        "    # fourth row rules\n",
        "    s += [Or(X[2][3] == 1, X[4][3] == 1, X[3][2] == 1, X[3][4] == 1)]\n",
        "    s += [Or(X[3][1] == 5, X[8][6] == 5)]\n",
        "    s += [Or(X[2][8] == 1, X[3][7] == 1, X[4][8] == 1)]\n",
        "\n",
        "    # fifth row rules\n",
        "    s += [X[4][8] == 8]\n",
        "    s += [Or(X[1][1] == 3, X[7][1] == 3, X[4][4] == 3)]\n",
        "    s += [Or(X[1][2] == 3, X[7][2] == 3, X[4][5] == 3)]\n",
        "    s += [Or(X[3][4] == 1, X[5][4] == 1, X[4][3] == 1, X[4][5] == 1)]\n",
        "    s += [Or(X[2][6] == 2, X[4][4] == 2, X[4][8] == 2, X[6][6] == 2)]\n",
        "    s += [Or(X[0][7] == 4, X[4][3] == 4, X[8][7] == 4)]\n",
        "    s += [Or(X[0][8] == 4, X[4][4] == 4, X[8][8] == 4)]\n",
        "    \n",
        "    # sixth row rules\n",
        "    s += [Or(X[2][0] == 3, X[5][3] == 3, X[8][0] == 3)]\n",
        "    s += [Or(X[1][2] == 4, X[5][6] == 4)]\n",
        "    s += [Or(X[5][2] == 3, X[5][8] == 3, X[2][5] == 3, X[8][5] == 3)]\n",
        "\n",
        "    # seventh row rules\n",
        "    s += [Or(X[0][0] == 6, X[6][6] == 6)]\n",
        "    s += [Or(X[6][0] == 2, X[6][4] == 2, X[4][2] == 2, X[8][2] == 2)]\n",
        "    s += [Or(X[6][0] == 3, X[6][6] == 3, X[3][3] == 3)]\n",
        "    s += [Or(X[6][1] == 5, X[1][6] == 5)]\n",
        "\n",
        "    # eighth row rules\n",
        "    s += [Or(X[7][5] == 4, X[3][1] == 4)]\n",
        "\n",
        "    # ninth row rules\n",
        "    s += [Or(X[1][0] == 7, X[8][7] == 7)]\n",
        "    s += [Or(X[6][1] == 2, X[8][3] == 2)]\n",
        "    s += [X[1][2] == 7]\n",
        "    s += [Or(X[8][0] == 3, X[5][3] == 3, X[8][6] == 3)]\n",
        "    s += [Or(X[8][3] == 1, X[7][4] == 1, X[8][5] == 1)]\n",
        "    s += [Or(X[8][5] == 3, X[5][8] == 3)]\n",
        "\n",
        "    if s.check() == sat:\n",
        "        m = s.model()\n",
        "        evalu = np.vectorize(lambda x: m.evaluate(x).as_long())\n",
        "        r = evalu(X)\n",
        "        sol_print(r)\n",
        "        sum = np.sum((r[fixed > 0] ** 2))\n",
        "        print(f\"Solution found in {time.time() - start} seconds.\")\n",
        "        print(f\"Answer is {sum}.\")\n",
        "    else:\n",
        "        print(f\"Failed in {time.time() - start} seconds.\")"
      ],
      "metadata": {
        "id": "TCUjKlO83NbW"
      },
      "execution_count": 45,
      "outputs": []
    },
    {
      "cell_type": "code",
      "source": [
        "# run code\n",
        "solveHardCoded()"
      ],
      "metadata": {
        "colab": {
          "base_uri": "https://localhost:8080/",
          "height": 301
        },
        "id": "HBxbTeEg3y9b",
        "outputId": "e0b403b6-3ee6-479a-8e43-33e2b3cef1e4"
      },
      "execution_count": 46,
      "outputs": [
        {
          "output_type": "stream",
          "name": "stdout",
          "text": [
            "Solving...\n",
            "Solution found in 0.34926438331604004 seconds.\n",
            "Answer is 1105.\n"
          ]
        },
        {
          "output_type": "display_data",
          "data": {
            "text/plain": [
              "<Figure size 288x288 with 1 Axes>"
            ],
            "image/png": "[encoded data removed]"
          },
          "metadata": {
            "needs_background": "light"
          }
        }
      ]
    }
  ]
}