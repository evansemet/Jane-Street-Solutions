{
 "cells": [
  {
   "cell_type": "code",
   "execution_count": 202,
   "metadata": {},
   "outputs": [],
   "source": [
    "words = [[\"POLO\", \"ENGLAND\", \"SKYSCRAPER\", \"DRESS\", \"TUXEDO\"],\n",
    "         [\"AGENT\", \"COMPOUND\", \"DECK\", \"SHOE\", \"SHORTS\"],\n",
    "         [\"BOOT\", \"PLANE\", \"SCHOOL\", \"CAP\", \"TEXAS\"],\n",
    "         [\"BOMB\", \"DASH\", \"TELESCOPE\", \"TIN\", \"GLOVE\"],\n",
    "         [\"KISS\", \"GOVERNOR\", \"SHERLOCK\", \"SUIT\", \"SUN\"],\n",
    "         [\"SPACE\", \"MILL\", \"CIRCLE\", \"DUCK\", \"POWDER\"],\n",
    "         [\"FEVER\", \"SCORPION\", \"OCTOPUS\", \"SILK\", \"WAR\"],\n",
    "         [\"HOTEL\", \"FOAM\", \"CUCKOO\", \"SHEET\", \"PENGUIN\"],\n",
    "         [\"RABBIT\", \"MUD\", \"GLASSES\", \"SHARK\", \"DOG\"],\n",
    "         [\"TURTLE\", \"CLOAK\", \"REINDEER\", \"ICE\", \"EAGLE\"],\n",
    "         [\"BANK\", \"SOUP\", \"CHEESE\", \"WELL\", \"POTATO\"],\n",
    "         [\"MAGAZINE\", \"PIE\", \"SALAD\", \"CARROT\", \"PIZZA\"],\n",
    "         [\"ARMY\", \"PADDLE\", \"HAMBURGER\", \"HIMALAYAS\", \"COUNTRY\"],\n",
    "         [\"CYCLE\", \"BRIDE\", \"BISCUIT\", \"PACIFIC\", \"LAB\"],\n",
    "         [\"ASH\", \"KID\", \"QUEEN\", \"NOVEL\", \"JET\"]]\n",
    "\n",
    "binary = \"\"\"\n",
    "10011\n",
    "00011\n",
    "10010\n",
    "00001\n",
    "00010\n",
    "00010\n",
    "01100\n",
    "00101\n",
    "10011\n",
    "10101\n",
    "01101\n",
    "01111\n",
    "00100\n",
    "00100\n",
    "00000\n",
    "\"\"\""
   ]
  },
  {
   "cell_type": "code",
   "execution_count": 203,
   "metadata": {},
   "outputs": [
    {
     "name": "stdout",
     "output_type": "stream",
     "text": [
      "SCRABBLESUMODD\n"
     ]
    }
   ],
   "source": [
    "def numToLetter(n):\n",
    "    return \"ABCDEFGHIJKLMNOPQRSTUVWXYZ\"[n-1]\n",
    "\n",
    "nums = [int(num.strip(),2) for num in binary.split()]\n",
    "print(''.join([numToLetter(n) for n in nums if n!=0]))"
   ]
  },
  {
   "cell_type": "code",
   "execution_count": 204,
   "metadata": {},
   "outputs": [
    {
     "name": "stdout",
     "output_type": "stream",
     "text": [
      "LONGERTHANFIVE\n"
     ]
    }
   ],
   "source": [
    "def scrabbleScore(letter):\n",
    "    score = {'A': 1, 'B': 3, 'C': 3, 'D': 2, 'E': 1, 'F': 4, 'G': 2, 'H': 4, 'I': 1, \n",
    "             'J': 8, 'K': 5, 'L': 1, 'M': 3, 'N': 1, 'O': 1, 'P': 3, 'Q': 10, 'R': 1, \n",
    "             'S': 1, 'T': 1, 'U': 1, 'V': 4, 'W': 4, 'X': 8, 'Y': 4, 'Z': 10}\n",
    "    return score.get(letter)\n",
    "\n",
    "def scrabbleWord(word):\n",
    "    return sum(scrabbleScore(letter) for letter in word)\n",
    "\n",
    "oddScrabble = [[1 if scrabbleWord(word)%2 else 0 for word in line] for line in words]\n",
    "print(''.join([numToLetter(int(''.join(str(n) for n in line),2)) for line in oddScrabble if sum(line)!=0]))"
   ]
  },
  {
   "cell_type": "code",
   "execution_count": 205,
   "metadata": {},
   "outputs": [
    {
     "name": "stdout",
     "output_type": "stream",
     "text": [
      "MIDDLELETTEROF\n"
     ]
    }
   ],
   "source": [
    "longerFive = [[1 if len(word)>5 else 0 for word in line] for line in words]\n",
    "print(''.join([numToLetter(int(''.join(str(n) for n in line),2)) for line in longerFive if sum(line)!=0]))"
   ]
  },
  {
   "cell_type": "code",
   "execution_count": 206,
   "metadata": {},
   "outputs": [
    {
     "name": "stdout",
     "output_type": "stream",
     "text": [
      "SIEVE\n"
     ]
    }
   ],
   "source": [
    "print(''.join([word[len(word)//2] for word in words[-1]]))"
   ]
  }
 ],
 "metadata": {
  "kernelspec": {
   "display_name": "Python 3.11.1 64-bit",
   "language": "python",
   "name": "python3"
  },
  "language_info": {
   "codemirror_mode": {
    "name": "ipython",
    "version": 3
   },
   "file_extension": ".py",
   "mimetype": "text/x-python",
   "name": "python",
   "nbconvert_exporter": "python",
   "pygments_lexer": "ipython3",
   "version": "3.11.1"
  },
  "orig_nbformat": 4,
  "vscode": {
   "interpreter": {
    "hash": "aee8b7b246df8f9039afb4144a1f6fd8d2ca17a180786b69acc140d282b71a49"
   }
  }
 },
 "nbformat": 4,
 "nbformat_minor": 2
}
