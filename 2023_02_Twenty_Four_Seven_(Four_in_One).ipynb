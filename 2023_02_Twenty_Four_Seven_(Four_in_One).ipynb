{
  "nbformat": 4,
  "nbformat_minor": 0,
  "metadata": {
    "colab": {
      "provenance": [],
      "authorship_tag": "ABX9TyPtZCU4WCUrG4yPsu3SP2OF",
      "include_colab_link": true
    },
    "kernelspec": {
      "name": "python3",
      "display_name": "Python 3"
    },
    "language_info": {
      "name": "python"
    }
  },
  "cells": [
    {
      "cell_type": "markdown",
      "metadata": {
        "id": "view-in-github",
        "colab_type": "text"
      },
      "source": [
        "<a href=\"https://colab.research.google.com/github/evansemet/Jane-Street-Solutions/blob/main/2023_02_Twenty_Four_Seven_(Four_in_One).ipynb\" target=\"_parent\"><img src=\"https://colab.research.google.com/assets/colab-badge.svg\" alt=\"Open In Colab\"/></a>"
      ]
    },
    {
      "cell_type": "code",
      "execution_count": null,
      "metadata": {
        "id": "K7_6JRWOWnIW"
      },
      "outputs": [],
      "source": [
        "import numpy as np\n",
        "import time\n",
        "from z3 import *\n",
        "from scipy.ndimage import measurements\n",
        "import seaborn as sns\n",
        "import matplotlib.pyplot as plt\n",
        "from skimage.morphology import label\n",
        "import matplotlib\n",
        "from IPython.display import Markdown, display"
      ]
    },
    {
      "cell_type": "code",
      "source": [
        "grid = np.array([[0,0,0,0,0,0,0,0,0,0,0,0],\n",
        "                 [0,0,0,1,0,0,0,0,0,6,5,0],\n",
        "                 [0,0,0,0,0,3,0,0,0,0,6,0],\n",
        "                 [0,4,0,0,0,0,0,0,7,0,0,0],\n",
        "                 [0,0,0,0,2,0,0,0,0,0,0,7],\n",
        "                 [0,0,6,0,0,0,0,0,3,7,0,0],\n",
        "                 [0,0,0,0,0,0,0,0,0,0,0,0],\n",
        "                 [0,0,0,0,0,0,0,0,0,0,0,0],\n",
        "                 [0,0,0,7,0,5,0,0,0,0,0,0],\n",
        "                 [0,5,0,0,0,7,0,0,0,0,0,0],\n",
        "                 [0,6,7,0,0,0,0,0,0,0,0,0],\n",
        "                 [0,0,0,0,6,0,0,0,0,0,0,0]], dtype=int)\n",
        "\n",
        "cols_top = np.array([6,36,30,34,27,3,40,27,0,0,7,0], dtype=int)\n",
        "cols_bot = np.array([6,0,0,4,0,0,0,0,0,0,0,5], dtype=int)\n",
        "\n",
        "rows_l = np.array([5,7,7,33,29,2,40,28,0,0,36,0], dtype=int)\n",
        "rows_r = np.array([4,0,0,1,0,0,0,0,0,0,0,7], dtype=int)"
      ],
      "metadata": {
        "id": "_b2BqDfRXBWt"
      },
      "execution_count": null,
      "outputs": []
    },
    {
      "cell_type": "code",
      "source": [
        "def neighbours(i, j):\n",
        "  l=[]\n",
        "  if i-1 >= 0: l.append((i-1,j))\n",
        "  if i+1 < 12: l.append((i+1,j))\n",
        "  if j-1 >= 0: l.append((i,j-1))\n",
        "  if j+1 < 12: l.append((i,j+1))\n",
        "  return l\n",
        "\n",
        "def areas(grid):\n",
        "  labels, num = measurements.label(grid < 1)\n",
        "  areas = measurements.sum(grid < 1, labels, index=range(1, num + 1))\n",
        "  return np.prod(areas)"
      ],
      "metadata": {
        "id": "_eNbOQtrdHFC"
      },
      "execution_count": null,
      "outputs": []
    },
    {
      "cell_type": "code",
      "source": [
        "start = time.time()\n",
        "s = Solver()\n",
        "\n",
        "whole = np.array(IntVector(\"x\", 12**2), dtype=object).reshape((12,12))\n",
        "top_l = np.array(IntVector(\"a\", 7**2), dtype=object).reshape((7,7))\n",
        "top_r = np.array(IntVector(\"b\", 7**2), dtype=object).reshape((7,7))\n",
        "bot_l = np.array(IntVector(\"c\", 7**2), dtype=object).reshape((7,7))\n",
        "bot_r = np.array(IntVector(\"d\", 7**2), dtype=object).reshape((7,7))\n",
        "\n",
        "# whole grid has to match the values of the 4 7x7s\n",
        "s += [And(e==whole[i][j], top_r[i][j]==whole[i][j+5], bot_l[i][j]==whole[i+5][j], \\\n",
        "          bot_r[i][j]==whole[i+5][j+5]) for (i,j),e in np.ndenumerate(top_l)]\n",
        "\n",
        "# # every number from 0 to 7 and matches input given\n",
        "s += [And(e >= 0, e <= 7) for _, e in np.ndenumerate(whole)]\n",
        "s += [whole[i][j] == int(grid[i][j]) for j in range(12) for i in range(12) if grid[i][j] > 0]\n",
        "# at least one empty\n",
        "s += [Or(whole[i][j] ==0,whole[i+1][j] ==0,whole[i][j+1] ==0,whole[i+1][j+1] ==0) for j in range(11) for i in range(11)]\n",
        "# at least one neighbor\n",
        "s += [Implies(whole[i][j] !=0,Or([whole[k][l] !=0 for (k,l) in neighbours(i,j)])) for j in range(12) for i in range(12)]\n",
        "\n",
        "# rules for each 7x7\n",
        "for x7 in [top_l, top_r, bot_l, bot_r]:\n",
        "  # row and col totals\n",
        "  s += [Sum([x7[i][j] for i in range(7)]) == 20 for j in range(7)]\n",
        "  s += [Sum([x7[i][j] for j in range(7)]) == 20 for i in range(7)]\n",
        "  # 4 numbers in each row and col\n",
        "  s += [PbEq([(x7[i][j] ==0,1) for i in range(7)],3) for j in range(7)]\n",
        "  s += [PbEq([(x7[i][j] ==0,1) for j in range(7)],3) for i in range(7)]\n",
        "  # n instances of n\n",
        "  s += [PbEq([(x7[i][j] == n,1) for j in range(7) for i in range(7)],n) for n in range(1,8)]\n",
        "\n",
        "for n in range(12):\n",
        "  if cols_top[n] > 0:\n",
        "    s += Or(Sum([whole[i][n] for i in range(12)])==int(cols_top[n]), \\\n",
        "            If(whole[0][n] == 0,If(whole[1][n] == 0,If(whole[2][n] == 0,whole[3][n] == int(cols_top[n]), \\\n",
        "            whole[2][n] == int(cols_top[n])),whole[1][n] == int(cols_top[n])),whole[0][n] == int(cols_top[n])))\n",
        "\n",
        "  if cols_bot[n] > 0:\n",
        "    s += Or(Sum([whole[i][n] for i in range(12)])==int(cols_bot[n]), \\\n",
        "            If(whole[11][n] == 0,If(whole[10][n] == 0,If(whole[9][n] == 0,whole[8][n] == int(cols_bot[n]), \\\n",
        "            whole[9][n] == int(cols_bot[n])),whole[10][n] == int(cols_bot[n])),whole[11][n] == int(cols_bot[n])))\n",
        "\n",
        "  if rows_l[n] > 0:\n",
        "    s += Or(Sum([whole[n][i] for i in range(12)])==int(rows_l[n]), \\\n",
        "            If(whole[n][0] == 0,If(whole[n][1] == 0,If(whole[n][2] == 0,whole[n][3] == int(rows_l[n]), \\\n",
        "            whole[n][2] == int(rows_l[n])),whole[n][1] == int(rows_l[n])),whole[n][0] == int(rows_l[n])))\n",
        "\n",
        "  if rows_r[n] > 0:\n",
        "    s += Or(Sum([whole[n][i] for i in range(12)])==int(rows_r[n]), \\\n",
        "            If(whole[n][11] == 0,If(whole[n][10] == 0,If(whole[n][9] == 0,whole[n][8] == int(rows_r[n]), \\\n",
        "            whole[n][9] == int(rows_r[n])), whole[n][10] == int(rows_r[n])),whole[n][11] == int(rows_r[n])))\n",
        "\n",
        "count = 0\n",
        "while True:   \n",
        "  if s.check() == sat:\n",
        "    count += 1\n",
        "    m = s.model()\n",
        "    x = np.array([[m.evaluate(whole[i][j]).as_long() for j in range(12)] for i in range(12)])\n",
        "    if np.max(label(x != 0,connectivity=1)) == 1:\n",
        "      break\n",
        "    s += Or([whole[i][j]!=int(x[i,j]) for j in range(12) for i in range(12)])\n",
        "  else:\n",
        "    print(\"failed to solve\") \n",
        "    break\n",
        "\n",
        "print('{} solutions took {:0.4f} seconds\\n'.format(count,time.time()-start))\n",
        "fig, ax = plt.subplots(1,1,figsize=(6,6))\n",
        "y = np.array(x).astype('int').astype('str')\n",
        "y[y==\"0\"] =\"\"\n",
        "ax = sns.heatmap(x==0, annot=y, cbar=False, cmap=\"Greys\", fmt=\"\", linewidths=2, center=1, linecolor=\"grey\", annot_kws={\"size\":14})\n",
        "ax.axis(\"off\")\n",
        "plt.tight_layout()\n",
        "plt.show()\n",
        "display(Markdown('### Solution is {:,.0f}'.format((areas(x)))))"
      ],
      "metadata": {
        "colab": {
          "base_uri": "https://localhost:8080/",
          "height": 516
        },
        "id": "5Zia5t1FXXJi",
        "outputId": "923a2470-2144-418f-c697-e8da8fadda8e"
      },
      "execution_count": null,
      "outputs": [
        {
          "output_type": "stream",
          "name": "stdout",
          "text": [
            "3 solutions took 0.8405 seconds\n",
            "\n"
          ]
        },
        {
          "output_type": "display_data",
          "data": {
            "text/plain": [
              "<Figure size 432x432 with 1 Axes>"
            ],
            "image/png": "[encoded data removed]"
          },
          "metadata": {
            "needs_background": "light"
          }
        },
        {
          "output_type": "display_data",
          "data": {
            "text/plain": [
              "<IPython.core.display.Markdown object>"
            ],
            "text/markdown": "### Solution is 74,649,600"
          },
          "metadata": {}
        }
      ]
    }
  ]
}