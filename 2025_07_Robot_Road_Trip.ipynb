{
 "cells": [
  {
   "cell_type": "code",
   "execution_count": 162,
   "metadata": {},
   "outputs": [
    {
     "name": "stdout",
     "output_type": "stream",
     "text": [
      "1.1771414168\n"
     ]
    }
   ],
   "source": [
    "import mpmath as mp\n",
    "mp.mp.dps = 10\n",
    "\n",
    "def cost(a: float) -> float:\n",
    "    slow_integrand = lambda vf, vs: (1/vs - 1/vf) * vs**2\n",
    "    fast_integrand = lambda vf, vs: (1/vs - 1/vf) * (vs - a)**2\n",
    "    slow = mp.quad(lambda vs: mp.quad(lambda vf: slow_integrand(vf, vs), [vs, a]), [1, a]) / 2\n",
    "    fast = mp.quad(lambda vs: mp.quad(lambda vf: fast_integrand(vf, vs), [vs, 2]), [a, 2]) / 2\n",
    "    return slow + fast\n",
    "\n",
    "dcost = lambda a: mp.diff(cost, a)\n",
    "print(round(float(mp.findroot(dcost, 1.2)), 10))"
   ]
  }
 ],
 "metadata": {
  "kernelspec": {
   "display_name": "Python 3",
   "language": "python",
   "name": "python3"
  },
  "language_info": {
   "codemirror_mode": {
    "name": "ipython",
    "version": 3
   },
   "file_extension": ".py",
   "mimetype": "text/x-python",
   "name": "python",
   "nbconvert_exporter": "python",
   "pygments_lexer": "ipython3",
   "version": "3.12.1"
  }
 },
 "nbformat": 4,
 "nbformat_minor": 2
}
