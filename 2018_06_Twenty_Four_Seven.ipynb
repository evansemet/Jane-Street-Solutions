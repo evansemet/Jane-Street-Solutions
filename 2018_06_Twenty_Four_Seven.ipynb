{
 "cells": [
  {
   "cell_type": "code",
   "execution_count": 18,
   "metadata": {},
   "outputs": [],
   "source": [
    "from z3 import *\n",
    "import numpy as np\n",
    "from itertools import product\n",
    "from scipy.ndimage import measurements\n",
    "from skimage.morphology import label\n",
    "import seaborn as sns\n",
    "import matplotlib.pyplot as plt\n",
    "import time\n",
    "from IPython.display import Markdown, display\n",
    "import warnings\n",
    "warnings.filterwarnings(\"ignore\", message=\"Please use `label` from the `scipy.ndimage` namespace\")\n",
    "warnings.filterwarnings(\"ignore\", message=\"Please use `sum` from the `scipy.ndimage` namespace\")"
   ]
  },
  {
   "cell_type": "code",
   "execution_count": 19,
   "metadata": {},
   "outputs": [],
   "source": [
    "grid = np.array([[0,4,0,0,0,0,0],\n",
    "                 [0,0,6,3,0,0,6],\n",
    "                 [0,0,0,0,0,5,5],\n",
    "                 [0,0,0,4,0,0,0],\n",
    "                 [4,7,0,0,0,0,0],\n",
    "                 [2,0,0,7,4,0,0],\n",
    "                 [0,0,0,0,0,1,0]], dtype=int)\n",
    "\n",
    "def areas(grid):\n",
    "  labels, num = measurements.label(grid < 1)\n",
    "  areas = measurements.sum(grid < 1, labels, index=range(1, num + 1))\n",
    "  return np.prod(areas)\n",
    "\n",
    "def print_sol(x):\n",
    "  _, ax = plt.subplots(1,1,figsize=(8,8))\n",
    "  y = np.array(x).astype('int').astype('str')\n",
    "  y[y==\"0\"] =\"\"\n",
    "  ax = sns.heatmap(x==0, annot=y, cbar=False, cmap=\"Greys\", fmt=\"\", linewidths=2, center=1, linecolor=\"grey\", annot_kws={\"size\":14})\n",
    "  ax.axis(\"off\")\n",
    "  plt.tight_layout()\n",
    "  plt.show()\n",
    "  display(Markdown('## Solution is: {:,.0f}'.format((areas(x)))))"
   ]
  },
  {
   "cell_type": "code",
   "execution_count": 21,
   "metadata": {},
   "outputs": [
    {
     "data": {
      "text/markdown": [
       "## Solved in 0.084 seconds"
      ],
      "text/plain": [
       "<IPython.core.display.Markdown object>"
      ]
     },
     "metadata": {},
     "output_type": "display_data"
    },
    {
     "data": {
      "image/png": "[encoded data removed]",
      "text/plain": [
       "<Figure size 800x800 with 1 Axes>"
      ]
     },
     "metadata": {},
     "output_type": "display_data"
    },
    {
     "data": {
      "text/markdown": [
       "## Solution is: 240"
      ],
      "text/plain": [
       "<IPython.core.display.Markdown object>"
      ]
     },
     "metadata": {},
     "output_type": "display_data"
    }
   ],
   "source": [
    "start = time.time()\n",
    "N = 7\n",
    "s = Solver()\n",
    "X = np.array(IntVector(\"x\", N**2), dtype=object).reshape((N,N))\n",
    "\n",
    "s += [And(n>=0, n<=N) for n in X.ravel()]\n",
    "s += [X[i][j] == e for (i,j),e in np.ndenumerate(grid) if e != 0]\n",
    "s += [Sum([X[i][j] for i in range(N)])==20 for j in range(N)]\n",
    "s += [Sum([X[i][j] for j in range(N)])==20 for i in range(N)]\n",
    "s += [And(np.sum(X[idx, :])==20, np.sum(X[:, idx])==20) for idx in range(N)]\n",
    "s += [PbEq([(X[i][j]==0,1) for i in range(N)],3) for j in range(N)]\n",
    "s += [PbEq([(X[i][j]==0,1) for j in range(N)],3) for i in range(N)]\n",
    "s += [PbEq([(X[i][j]==n,1) for i,j in product(range(N), repeat=2)],n) for n in range(1,N+1)]\n",
    "s += [Or(X[i][j]==0,X[i+1][j]==0,X[i][j+1]==0,X[i+1][j+1]==0) for i,j in product(range(N-1), repeat=2)]\n",
    "\n",
    "while True:   \n",
    "    if s.check() == sat:\n",
    "        m = s.model()\n",
    "        x = np.array([[m.evaluate(X[i][j]).as_long() for j in range(N)] for i in range(N)])\n",
    "        if np.max(label(x != 0,connectivity=1)) == 1:\n",
    "            display(Markdown('## Solved in {:.3f} seconds'.format(time.time()-start)))\n",
    "            print_sol(x)\n",
    "            break\n",
    "        s += Or([X[i][j]!=int(x[i,j]) for i,j in product(range(N), repeat=2)])"
   ]
  }
 ],
 "metadata": {
  "kernelspec": {
   "display_name": "Python 3",
   "language": "python",
   "name": "python3"
  },
  "language_info": {
   "codemirror_mode": {
    "name": "ipython",
    "version": 3
   },
   "file_extension": ".py",
   "mimetype": "text/x-python",
   "name": "python",
   "nbconvert_exporter": "python",
   "pygments_lexer": "ipython3",
   "version": "3.12.1"
  }
 },
 "nbformat": 4,
 "nbformat_minor": 2
}
