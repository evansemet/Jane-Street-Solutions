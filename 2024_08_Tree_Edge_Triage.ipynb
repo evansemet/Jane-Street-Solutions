{
 "cells": [
  {
   "cell_type": "code",
   "execution_count": 1,
   "metadata": {},
   "outputs": [
    {
     "data": {
      "text/plain": [
       "0.9449409308244318"
      ]
     },
     "execution_count": 1,
     "metadata": {},
     "output_type": "execute_result"
    }
   ],
   "source": [
    "from scipy.optimize import minimize_scalar\n",
    "\n",
    "def function(p: float, max_depth: int) -> float:\n",
    "    result = 1\n",
    "    for i in range(max_depth):\n",
    "        if i % 2 == 0:\n",
    "            result = 2*p*result - p**2 * result**2\n",
    "        else:\n",
    "            result = p**2 * result**2\n",
    "    return result\n",
    "\n",
    "def objective(p: float) -> float:\n",
    "    f = function(p=p, max_depth=1_000_000)\n",
    "    return f if f > 0 else 1\n",
    "\n",
    "minimize_scalar(objective, bounds=(0, 1), method='bounded').x"
   ]
  },
  {
   "cell_type": "markdown",
   "metadata": {},
   "source": [
    "# $\\frac{3}{2\\cdot2^\\frac{2}{3}}$"
   ]
  }
 ],
 "metadata": {
  "kernelspec": {
   "display_name": "base",
   "language": "python",
   "name": "python3"
  },
  "language_info": {
   "codemirror_mode": {
    "name": "ipython",
    "version": 3
   },
   "file_extension": ".py",
   "mimetype": "text/x-python",
   "name": "python",
   "nbconvert_exporter": "python",
   "pygments_lexer": "ipython3",
   "version": "3.11.5"
  }
 },
 "nbformat": 4,
 "nbformat_minor": 2
}
