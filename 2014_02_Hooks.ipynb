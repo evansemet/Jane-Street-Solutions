{
  "nbformat": 4,
  "nbformat_minor": 0,
  "metadata": {
    "colab": {
      "name": "2014_02_Hooks.ipynb",
      "provenance": [],
      "authorship_tag": "ABX9TyOvj/L4jk75jmIez7lMRkja",
      "include_colab_link": true
    },
    "kernelspec": {
      "name": "python3",
      "display_name": "Python 3"
    },
    "language_info": {
      "name": "python"
    }
  },
  "cells": [
    {
      "cell_type": "markdown",
      "metadata": {
        "id": "view-in-github",
        "colab_type": "text"
      },
      "source": [
        "<a href=\"https://colab.research.google.com/github/evansemet/Jane-Street-Solutions/blob/main/2014_02_Hooks.ipynb\" target=\"_parent\"><img src=\"https://colab.research.google.com/assets/colab-badge.svg\" alt=\"Open In Colab\"/></a>"
      ]
    },
    {
      "cell_type": "markdown",
      "source": [
        "The output grid is correct, but for some reason, I am unable to print the sum of the grey regions that the puzzle asks for when uploading your solution since Jane Street does not take pictures for a solution. I will need to come back to that and address it."
      ],
      "metadata": {
        "id": "cYvCptmx4bsh"
      }
    },
    {
      "cell_type": "code",
      "execution_count": 43,
      "metadata": {
        "colab": {
          "base_uri": "https://localhost:8080/"
        },
        "id": "WFiCfyxdJavU",
        "outputId": "779dcd6b-11c9-4b9b-a02f-7c25792b7703"
      },
      "outputs": [
        {
          "output_type": "stream",
          "name": "stdout",
          "text": [
            "Requirement already satisfied: z3-solver in /usr/local/lib/python3.7/dist-packages (4.8.15.0)\n"
          ]
        }
      ],
      "source": [
        "!pip install z3-solver\n",
        "import matplotlib.pyplot as plt\n",
        "import numpy as np\n",
        "import seaborn as sns\n",
        "import time\n",
        "from z3 import *"
      ]
    },
    {
      "cell_type": "code",
      "source": [
        "# information provided\n",
        "rowsGiven = np.array([26, 42, 11, 22, 42, 36, 29, 32, 45], dtype=int)\n",
        "colsGiven = np.array([31, 19, 45, 16, 5, 47, 28, 49, 45], dtype=int)"
      ],
      "metadata": {
        "id": "usn0ezwhxEXT"
      },
      "execution_count": 44,
      "outputs": []
    },
    {
      "cell_type": "code",
      "source": [
        "def solve():\n",
        "  print(\"Solving...\")\n",
        "  start = time.time()\n",
        "  X = np.array(IntVector(\"x\", 9**2), dtype=object).reshape((9, 9))\n",
        "  s = Solver()\n",
        "\n",
        "  # makes sure each number is from 0 to 9 and the sums match the given values\n",
        "  s += [And(val >= 0, val <= 9) for val in X.ravel()]\n",
        "  s += [np.sum(X[r, :]) == int(val) for r, val in np.ndenumerate(rowsGiven)]\n",
        "  s += [np.sum(X[:, c]) == int(val) for c, val in np.ndenumerate(colsGiven)]\n",
        "\n",
        "  # we were given the placement of the 1 (not that it could've gone anywhere else though)\n",
        "  s += [X[0][0] == 1]\n",
        "\n",
        "  # only n instances of n (the 1 is already accounted for)\n",
        "  for n in range(2, 10):\n",
        "    s += PbEq([(X[i][j] == n, 1) for j in range(9) for i in range(9)], n)\n",
        "\n",
        "  # provides what values can be in each hook\n",
        "  s += [Or(X[r][c] == max(r + 1, c + 1), X[r][c] == 0) for r in range(9) for c in range(9)]\n",
        "\n",
        "  if s.check() == sat:\n",
        "    m = s.model()\n",
        "    evalu = np.vectorize(lambda x: m.evaluate(x).as_long())\n",
        "    r = evalu(X)\n",
        "    fig, ax = plt.subplots(1, 1, figsize=(4, 4))\n",
        "    ax = sns.heatmap(np.zeros_like(r), annot=r, cbar=False, cmap=\"Greys\", linecolor='k', linewidth=2, annot_kws={\"fontsize\":14})\n",
        "    ax.axis(\"off\")\n",
        "    print(f\"Solved in {time.time() - start} seconds.\")\n",
        "  else:\n",
        "    print(f\"Failed in {time.time() - start} seconds.\")"
      ],
      "metadata": {
        "id": "JXofFlkBxXed"
      },
      "execution_count": 49,
      "outputs": []
    },
    {
      "cell_type": "code",
      "source": [
        "# runs the code\n",
        "solve()"
      ],
      "metadata": {
        "colab": {
          "base_uri": "https://localhost:8080/",
          "height": 283
        },
        "id": "pvxbnHloyvzz",
        "outputId": "6ddf24e3-1144-4685-fc1c-0cd4cf0a2238"
      },
      "execution_count": 48,
      "outputs": [
        {
          "output_type": "stream",
          "name": "stdout",
          "text": [
            "Solving...\n",
            "Solved in 0.3492546081542969 seconds.\n"
          ]
        },
        {
          "output_type": "display_data",
          "data": {
            "text/plain": [
              "<Figure size 288x288 with 1 Axes>"
            ],
            "image/png": "[encoded data removed]"
          },
          "metadata": {
            "needs_background": "light"
          }
        }
      ]
    }
  ]
}