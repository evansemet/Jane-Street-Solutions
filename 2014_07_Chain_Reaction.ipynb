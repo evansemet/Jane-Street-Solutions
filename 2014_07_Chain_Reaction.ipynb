{
  "nbformat": 4,
  "nbformat_minor": 0,
  "metadata": {
    "colab": {
      "name": "2014_07_Chain_Reaction.ipynb",
      "provenance": [],
      "authorship_tag": "ABX9TyNK1DaYmzB8l3PdRcwfm4aS",
      "include_colab_link": true
    },
    "kernelspec": {
      "name": "python3",
      "display_name": "Python 3"
    },
    "language_info": {
      "name": "python"
    }
  },
  "cells": [
    {
      "cell_type": "markdown",
      "metadata": {
        "id": "view-in-github",
        "colab_type": "text"
      },
      "source": [
        "<a href=\"https://colab.research.google.com/github/evansemet/Jane-Street-Solutions/blob/main/2014_07_Chain_Reaction.ipynb\" target=\"_parent\"><img src=\"https://colab.research.google.com/assets/colab-badge.svg\" alt=\"Open In Colab\"/></a>"
      ]
    },
    {
      "cell_type": "markdown",
      "source": [
        "Even though the general logic of this solution works, it will never be able to finish finding the longest possible sequence. Some more constraints/optimizations for the solver need to be given. When I have time, I will come back to this and optimize it."
      ],
      "metadata": {
        "id": "CswoUFmdRXrt"
      }
    },
    {
      "cell_type": "code",
      "source": [
        "!pip install z3-Solver\n",
        "import numpy as np\n",
        "import time\n",
        "from z3 import *"
      ],
      "metadata": {
        "colab": {
          "base_uri": "https://localhost:8080/"
        },
        "id": "L66-NSr5RN2z",
        "outputId": "a9149109-1011-4ac8-f3f0-1cbf2c3a0b85"
      },
      "execution_count": 2,
      "outputs": [
        {
          "output_type": "stream",
          "name": "stdout",
          "text": [
            "Requirement already satisfied: z3-Solver in /usr/local/lib/python3.7/dist-packages (4.8.15.0)\n"
          ]
        }
      ]
    },
    {
      "cell_type": "code",
      "execution_count": 3,
      "metadata": {
        "id": "6r2CcPA-RDV1"
      },
      "outputs": [],
      "source": [
        "# solve function using Z3\n",
        "def solve(length):\n",
        "    start = time.time()\n",
        "\n",
        "    # Setup\n",
        "    s = Solver()\n",
        "    X = [Int('x%s' % i) for i in range(length)]\n",
        "\n",
        "    # makes sure each number is from 1 to 100 and no duplicates\n",
        "    s += [And(val >= 1, val <= 100) for val in X]\n",
        "    s += [Distinct(X)]\n",
        "\n",
        "    # divisibility constraints\n",
        "    s += [Or(X[i] % X[i + 1] == 0, X[i + 1] % X[i] == 0) for i in range(length - 1)]\n",
        "\n",
        "    if s.check() == sat:\n",
        "        m = s.model()\n",
        "        evalu = np.vectorize(lambda x: m.evaluate(x).as_long())\n",
        "        r = evalu(X)\n",
        "        print(r)\n",
        "        print(f\"Solved in {time.time() - start} seconds.\")\n",
        "        return True\n",
        "    else:\n",
        "        print(f\"Failed in {time.time() - start} seconds.\")\n",
        "        return False"
      ]
    },
    {
      "cell_type": "code",
      "source": [
        "# loops through all lengths until it can't find a longer sequence\n",
        "for tryLength in range(1, 100):\n",
        "    print(f\"Trying length {tryLength}...\")\n",
        "    if not solve(tryLength):\n",
        "        break\n",
        "    print(\"-------------------------\")"
      ],
      "metadata": {
        "colab": {
          "base_uri": "https://localhost:8080/"
        },
        "id": "K0qD6rQdRwtE",
        "outputId": "e6d41ed8-84e7-4365-c0ec-2c523048d04a"
      },
      "execution_count": 4,
      "outputs": [
        {
          "output_type": "stream",
          "name": "stdout",
          "text": [
            "Trying length 1...\n",
            "[65]\n",
            "Solved in 0.041590213775634766 seconds.\n",
            "-------------------------\n",
            "Trying length 2...\n",
            "[8 4]\n",
            "Solved in 0.3918726444244385 seconds.\n",
            "-------------------------\n",
            "Trying length 3...\n",
            "[35  5  1]\n",
            "Solved in 0.10031580924987793 seconds.\n",
            "-------------------------\n",
            "Trying length 4...\n",
            "[ 1 99 33 66]\n",
            "Solved in 0.36628055572509766 seconds.\n",
            "-------------------------\n",
            "Trying length 5...\n",
            "[99  3 93  1 84]\n",
            "Solved in 0.27239513397216797 seconds.\n",
            "-------------------------\n",
            "Trying length 6...\n",
            "[28  4 32  2  1 11]\n",
            "Solved in 0.44192075729370117 seconds.\n",
            "-------------------------\n",
            "Trying length 7...\n",
            "Failed in 48.41996359825134 seconds.\n"
          ]
        }
      ]
    }
  ]
}