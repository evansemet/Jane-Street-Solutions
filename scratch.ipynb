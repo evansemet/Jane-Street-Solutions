{
 "cells": [
  {
   "cell_type": "code",
   "execution_count": 1,
   "metadata": {},
   "outputs": [],
   "source": [
    "import torch\n",
    "import dill\n",
    "\n",
    "model = torch.load(\"model_3_11.pt\", pickle_module=dill)"
   ]
  },
  {
   "cell_type": "code",
   "execution_count": 2,
   "metadata": {},
   "outputs": [
    {
     "name": "stdout",
     "output_type": "stream",
     "text": [
      "Linear(in_features=192, out_features=48, bias=True)\n",
      "ReLU()\n",
      "Linear(in_features=48, out_features=1, bias=True)\n",
      "ReLU()\n"
     ]
    }
   ],
   "source": [
    "print(model[-4])\n",
    "print(model[-3])\n",
    "print(model[-2])\n",
    "print(model[-1])"
   ]
  },
  {
   "cell_type": "code",
   "execution_count": 2,
   "metadata": {},
   "outputs": [
    {
     "name": "stdout",
     "output_type": "stream",
     "text": [
      "Linear(in_features=48, out_features=1, bias=True)\n"
     ]
    }
   ],
   "source": [
    "layer = model[-2]  # This should be the Linear(48 -> 1) layer\n",
    "print(layer)\n"
   ]
  },
  {
   "cell_type": "code",
   "execution_count": 20,
   "metadata": {},
   "outputs": [
    {
     "name": "stdout",
     "output_type": "stream",
     "text": [
      "Weights shape: torch.Size([1, 48])\n",
      "Weights: Parameter containing:\n",
      "tensor([[ 1.,  1.,  1.,  1.,  1.,  1.,  1.,  1.,  1.,  1.,  1.,  1.,  1.,  1.,\n",
      "          1.,  1., -2., -2., -2., -2., -2., -2., -2., -2., -2., -2., -2., -2.,\n",
      "         -2., -2., -2., -2.,  1.,  1.,  1.,  1.,  1.,  1.,  1.,  1.,  1.,  1.,\n",
      "          1.,  1.,  1.,  1.,  1.,  1.]], requires_grad=True)\n",
      "Bias: Parameter containing:\n",
      "tensor([-15.], requires_grad=True)\n"
     ]
    }
   ],
   "source": [
    "print(\"Weights shape:\", layer.weight.shape)\n",
    "print(\"Weights:\", layer.weight)\n",
    "print(\"Bias:\", layer.bias)\n"
   ]
  },
  {
   "cell_type": "code",
   "execution_count": 21,
   "metadata": {},
   "outputs": [
    {
     "name": "stdout",
     "output_type": "stream",
     "text": [
      "[[ 1.  1.  1.  1.  1.  1.  1.  1.  1.  1.  1.  1.  1.  1.  1.  1. -2. -2.\n",
      "  -2. -2. -2. -2. -2. -2. -2. -2. -2. -2. -2. -2. -2. -2.  1.  1.  1.  1.\n",
      "   1.  1.  1.  1.  1.  1.  1.  1.  1.  1.  1.  1.]]\n",
      "[-15.]\n"
     ]
    }
   ],
   "source": [
    "print(layer.weight.data.numpy())\n",
    "print(layer.bias.data.numpy())\n"
   ]
  },
  {
   "cell_type": "code",
   "execution_count": null,
   "metadata": {},
   "outputs": [
    {
     "ename": "",
     "evalue": "",
     "output_type": "error",
     "traceback": [
      "\u001b[1;31mThe Kernel crashed while executing code in the current cell or a previous cell. \n",
      "\u001b[1;31mPlease review the code in the cell(s) to identify a possible cause of the failure. \n",
      "\u001b[1;31mClick <a href='https://aka.ms/vscodeJupyterKernelCrash'>here</a> for more info. \n",
      "\u001b[1;31mView Jupyter <a href='command:jupyter.viewOutput'>log</a> for further details."
     ]
    }
   ],
   "source": [
    "import string\n",
    "\n",
    "def encode(word):\n",
    "    word = word.lower().ljust(12)[:12]  # pad or truncate to 12 letters\n",
    "    alphabet = string.ascii_lowercase\n",
    "    one_hot = torch.zeros(12, 16)\n",
    "    for i, char in enumerate(word):\n",
    "        if char in alphabet:\n",
    "            one_hot[i, ord(char) % 16] = 1  # mod 16 hash\n",
    "    return one_hot.view(1, -1)  # shape (1, 192)\n",
    "\n",
    "x = encode(\"abcdefghijkl\")\n",
    "print(x.shape)  # Should be (1, 192)\n",
    "\n",
    "# Test with the model\n",
    "print(\"Output:\", model(x))\n"
   ]
  },
  {
   "cell_type": "code",
   "execution_count": null,
   "metadata": {},
   "outputs": [],
   "source": []
  }
 ],
 "metadata": {
  "kernelspec": {
   "display_name": "Python 3",
   "language": "python",
   "name": "python3"
  },
  "language_info": {
   "codemirror_mode": {
    "name": "ipython",
    "version": 3
   },
   "file_extension": ".py",
   "mimetype": "text/x-python",
   "name": "python",
   "nbconvert_exporter": "python",
   "pygments_lexer": "ipython3",
   "version": "3.12.1"
  }
 },
 "nbformat": 4,
 "nbformat_minor": 2
}
