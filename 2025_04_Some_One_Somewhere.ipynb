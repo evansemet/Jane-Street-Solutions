{
 "cells": [
  {
   "cell_type": "code",
   "execution_count": 7,
   "metadata": {},
   "outputs": [],
   "source": [
    "from scipy.optimize import brentq"
   ]
  },
  {
   "cell_type": "code",
   "execution_count": 13,
   "metadata": {},
   "outputs": [],
   "source": [
    "def function(p: float, N: int = 1_000) -> float:\n",
    "    f0, f1 = 1.0, 1.0\n",
    "    for _ in range(N):\n",
    "        new_f0 = p * (1 - (1 - f0) ** 2)\n",
    "        new_f1 = p * (1 - (1 - f1) ** 2) + (1 - p) * (1 - (1 - f0) ** 2)\n",
    "        f0, f1 = new_f0, new_f1\n",
    "    return f1\n",
    "\n",
    "def objective(p: float, target: float = 0.5, N: int = 1_000) -> float:\n",
    "    return function(p, N) - target"
   ]
  },
  {
   "cell_type": "code",
   "execution_count": 18,
   "metadata": {},
   "outputs": [
    {
     "name": "stdout",
     "output_type": "stream",
     "text": [
      "p=0.5306035754\n"
     ]
    }
   ],
   "source": [
    "p = round(brentq(objective, 0.50, 1.0, xtol=1e-15, args=(0.5, 1_000)), 10)\n",
    "print(f\"{p=}\")"
   ]
  }
 ],
 "metadata": {
  "kernelspec": {
   "display_name": "base",
   "language": "python",
   "name": "python3"
  },
  "language_info": {
   "codemirror_mode": {
    "name": "ipython",
    "version": 3
   },
   "file_extension": ".py",
   "mimetype": "text/x-python",
   "name": "python",
   "nbconvert_exporter": "python",
   "pygments_lexer": "ipython3",
   "version": "3.11.5"
  }
 },
 "nbformat": 4,
 "nbformat_minor": 2
}
