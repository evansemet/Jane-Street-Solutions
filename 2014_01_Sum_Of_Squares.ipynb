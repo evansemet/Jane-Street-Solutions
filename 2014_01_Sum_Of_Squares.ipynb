{
  "nbformat": 4,
  "nbformat_minor": 0,
  "metadata": {
    "colab": {
      "name": "2014_01_Sum_Of_Squares.ipynb",
      "provenance": [],
      "authorship_tag": "ABX9TyPb7j/HIS2jvt0ably0MxLU",
      "include_colab_link": true
    },
    "kernelspec": {
      "name": "python3",
      "display_name": "Python 3"
    },
    "language_info": {
      "name": "python"
    }
  },
  "cells": [
    {
      "cell_type": "markdown",
      "metadata": {
        "id": "view-in-github",
        "colab_type": "text"
      },
      "source": [
        "<a href=\"https://colab.research.google.com/github/evansemet/Jane-Street-Solutions/blob/main/2014_01_Sum_Of_Squares.ipynb\" target=\"_parent\"><img src=\"https://colab.research.google.com/assets/colab-badge.svg\" alt=\"Open In Colab\"/></a>"
      ]
    },
    {
      "cell_type": "code",
      "execution_count": 39,
      "metadata": {
        "colab": {
          "base_uri": "https://localhost:8080/"
        },
        "id": "e5oTAZ97Vo2_",
        "outputId": "2e982f38-c394-4510-ef22-f95526774ff2"
      },
      "outputs": [
        {
          "output_type": "stream",
          "name": "stdout",
          "text": [
            "Requirement already satisfied: z3-solver in /usr/local/lib/python3.7/dist-packages (4.8.15.0)\n"
          ]
        }
      ],
      "source": [
        "!pip install z3-solver\n",
        "import matplotlib.pyplot as plt\n",
        "import numpy as np\n",
        "import seaborn as sns\n",
        "import time\n",
        "from z3 import *"
      ]
    },
    {
      "cell_type": "markdown",
      "source": [
        ""
      ],
      "metadata": {
        "id": "pCzvuS3vPPPq"
      }
    },
    {
      "cell_type": "code",
      "source": [
        "# information given about divisibility of each row and column\n",
        "rowsGiven = np.array([1, 2, 3, 4, 5], dtype=int)\n",
        "colsGiven = np.array([6, 7, 8, 9, 10], dtype=int)"
      ],
      "metadata": {
        "id": "EL2HQ9LVv9vL"
      },
      "execution_count": 40,
      "outputs": []
    },
    {
      "cell_type": "code",
      "source": [
        "# solve function with the help of Z3\n",
        "def solve():\n",
        "    print(\"Solving...\")\n",
        "    start = time.time()\n",
        "    # uses optimize instead of solver since the highest sum is the goal\n",
        "    s = Optimize()\n",
        "    X = np.array(IntVector('x', 5 * 5), dtype=object).reshape((5, 5))   \n",
        "\n",
        "    # maximizes total sum and checks that all values fall between 0 and 9\n",
        "    s.maximize(Sum([val for val in X.ravel()]))\n",
        "    s += [And(val >= 0, val <= 9) for val in X.ravel()]\n",
        "\n",
        "    # converts each row and column into a single number and then checks constraints\n",
        "    convert = lambda x: Sum([x[i] * 10 ** (4 - i) for i in range(5)])\n",
        "    s += [convert(X[r, :]) % int(rowsGiven[r]) == 0 for r in range(5)]\n",
        "    s += [convert(X[:, c]) % int(colsGiven[c]) == 0 for c in range(5)]\n",
        "\n",
        "    if s.check() == sat:\n",
        "      m = s.model()\n",
        "      evalu = np.vectorize(lambda x: m.evaluate(x).as_long())\n",
        "      r = evalu(X)\n",
        "      fig,ax = plt.subplots(1,1,figsize=(3,3))\n",
        "      ax = sns.heatmap(np.zeros_like(r), annot=r, cbar=False, cmap=\"Greys\", linecolor='k', linewidth=2, annot_kws={\"fontsize\":14})\n",
        "      ax.axis(\"off\")\n",
        "      print(f\"Answer is: {np.sum(r)},\", \"\".join(str(val) for val in r.ravel()))\n",
        "      print(f\"Solved in {time.time() - start} seconds.\")\n",
        "    else:\n",
        "      print(f\"Failed in {time.time() - start} seconds.\")    "
      ],
      "metadata": {
        "id": "s_jXtq_xWwTg"
      },
      "execution_count": 43,
      "outputs": []
    },
    {
      "cell_type": "code",
      "source": [
        "# runs code\n",
        "solve()"
      ],
      "metadata": {
        "colab": {
          "base_uri": "https://localhost:8080/",
          "height": 247
        },
        "id": "U_nv24FaO63I",
        "outputId": "c44d8dae-fa65-4963-acf0-2c24066845e3"
      },
      "execution_count": 44,
      "outputs": [
        {
          "output_type": "stream",
          "name": "stdout",
          "text": [
            "Solving...\n",
            "Answer is: 205, 9899999998798999989689890\n",
            "Solved in 1.2301218509674072 seconds.\n"
          ]
        },
        {
          "output_type": "display_data",
          "data": {
            "text/plain": [
              "<Figure size 216x216 with 1 Axes>"
            ],
            "image/png": "[encoded data removed]"
          },
          "metadata": {
            "needs_background": "light"
          }
        }
      ]
    }
  ]
}