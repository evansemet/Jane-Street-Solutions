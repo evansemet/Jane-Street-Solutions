{
 "cells": [
  {
   "cell_type": "code",
   "execution_count": 10,
   "metadata": {},
   "outputs": [
    {
     "name": "stdout",
     "output_type": "stream",
     "text": [
      "Probability: 0.4145092029\n"
     ]
    }
   ],
   "source": [
    "import numpy as np\n",
    "from scipy import integrate\n",
    "\n",
    "r1 = lambda x,y: np.sqrt(x**2 + y**2)\n",
    "r2 = lambda x,y: np.sqrt((x-1)**2 + y**2)\n",
    "\n",
    "def overlap_area(r1: float, r2: float) -> float:\n",
    "    part1 = r1**2 * np.arccos((1 + r1**2 - r2**2) / (2 * r1))\n",
    "    part2 = r2**2 * np.arccos((1 + r2**2 - r1**2) / (2 * r2))\n",
    "    part3 = np.sqrt((-1 + r1 + r2)*(1 + r1 - r2)*(1 - r1 + r2)*(1 + r1 + r2))\n",
    "    return part1 + part2 - part3\n",
    "\n",
    "def total_area(x: float, y: float) -> float:\n",
    "    r1_val, r2_val = r1(x, y), r2(x, y)\n",
    "    area1 = np.pi * r1_val**2\n",
    "    area2 = np.pi * r2_val**2\n",
    "    overlap = overlap_area(r1_val, r2_val)\n",
    "    return area1 + area2 - overlap\n",
    "\n",
    "result, _ = integrate.dblquad(\n",
    "    total_area,\n",
    "    0,\n",
    "    0.5,\n",
    "    0,\n",
    "    lambda x:x\n",
    ")\n",
    "\n",
    "print(f\"Probability: {round(result, 10)}\")"
   ]
  }
 ],
 "metadata": {
  "kernelspec": {
   "display_name": "base",
   "language": "python",
   "name": "python3"
  },
  "language_info": {
   "codemirror_mode": {
    "name": "ipython",
    "version": 3
   },
   "file_extension": ".py",
   "mimetype": "text/x-python",
   "name": "python",
   "nbconvert_exporter": "python",
   "pygments_lexer": "ipython3",
   "version": "3.11.5"
  }
 },
 "nbformat": 4,
 "nbformat_minor": 2
}
