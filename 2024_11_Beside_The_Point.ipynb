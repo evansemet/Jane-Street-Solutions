{
 "cells": [
  {
   "cell_type": "code",
   "execution_count": 28,
   "metadata": {},
   "outputs": [
    {
     "name": "stdout",
     "output_type": "stream",
     "text": [
      "Probability = 0.4914075788\n"
     ]
    }
   ],
   "source": [
    "import numpy as np\n",
    "from scipy import integrate\n",
    "\n",
    "def symmetric_difference_area(x: float, y: float) -> float:\n",
    "    r1 = np.sqrt(x**2 + y**2)\n",
    "    r2 = np.sqrt((1-x)**2 + y**2)\n",
    "    area1 = np.pi * r1**2 / 4\n",
    "    area2 = np.pi * r2**2 / 4\n",
    "    a = np.arccos((r1**2 + 1 - r2**2)/(2*r1))\n",
    "    b = np.arccos((r2**2 + 1 - r1**2)/(2*r2))\n",
    "    intersection = r1*r1*a + r2*r2*b - r1*np.sin(a)\n",
    "    return area1 + area2 - intersection\n",
    "\n",
    "probability = integrate.dblquad(\n",
    "    lambda x,y : symmetric_difference_area(y,x),\n",
    "    0, 0.5,\n",
    "    0, lambda x: x\n",
    ")[0] * 8\n",
    "\n",
    "print(f\"Probability = {probability:.10f}\")"
   ]
  }
 ],
 "metadata": {
  "kernelspec": {
   "display_name": "base",
   "language": "python",
   "name": "python3"
  },
  "language_info": {
   "codemirror_mode": {
    "name": "ipython",
    "version": 3
   },
   "file_extension": ".py",
   "mimetype": "text/x-python",
   "name": "python",
   "nbconvert_exporter": "python",
   "pygments_lexer": "ipython3",
   "version": "3.11.5"
  }
 },
 "nbformat": 4,
 "nbformat_minor": 2
}
