{
 "cells": [
  {
   "cell_type": "code",
   "execution_count": 114,
   "metadata": {},
   "outputs": [],
   "source": [
    "from z3 import *\n",
    "import numpy as np\n",
    "from itertools import product\n",
    "import time\n",
    "import matplotlib.pyplot as plt"
   ]
  },
  {
   "cell_type": "code",
   "execution_count": 143,
   "metadata": {},
   "outputs": [],
   "source": [
    "row_prods = np.array([], dtype=int)\n",
    "col_prods = np.array([], dtype=int)\n",
    "\n",
    "mb = lambda ch,N: np.array(IntVector(ch, N**2), dtype=object).reshape((N,N))\n",
    "knight_moves = lambda i,j,N: [(i+di,j+dj) for di,dj in product(range(-2,3), repeat=2) if abs(di)+abs(dj)==3 and 0<=i+di<N and 0<=j+dj<N]\n",
    "bishop_moves = lambda i,j,N: [(i+di,j+dj) for di,dj in product(range(-N,N), repeat=2) if abs(di)==abs(dj) and 0<=i+di<N and 0<=j+dj<N]\n",
    "rook_moves = lambda i,j,N: [(i+di,j+dj) for di,dj in product(range(-N,N), repeat=2) if di*dj==0 and (di!=0 or dj!=0) and 0<=i+di<N and 0<=j+dj<N]\n",
    "king_moves = lambda i,j,N: [(i+di,j+dj) for di,dj in product(range(-1,2), repeat=2) if di!=0 or dj!=0 and 0<=i+di<N and 0<=j+dj<N]\n",
    "queen_moves = lambda i,j,N: bishop_moves(i,j,N) + rook_moves(i,j,N)"
   ]
  },
  {
   "cell_type": "code",
   "execution_count": 146,
   "metadata": {},
   "outputs": [
    {
     "ename": "IndexError",
     "evalue": "index 0 is out of bounds for axis 0 with size 0",
     "output_type": "error",
     "traceback": [
      "\u001b[0;31m---------------------------------------------------------------------------\u001b[0m",
      "\u001b[0;31mIndexError\u001b[0m                                Traceback (most recent call last)",
      "Cell \u001b[0;32mIn[146], line 7\u001b[0m\n\u001b[1;32m      4\u001b[0m boards \u001b[38;5;241m=\u001b[39m [(queen, queen_moves), (king, king_moves), (knight, knight_moves), (bishop, bishop_moves), (rook, rook_moves), (X, \u001b[38;5;28;01mNone\u001b[39;00m)]\n\u001b[1;32m      6\u001b[0m s \u001b[38;5;241m+\u001b[39m\u001b[38;5;241m=\u001b[39m [And(n\u001b[38;5;241m>\u001b[39m\u001b[38;5;241m=\u001b[39m\u001b[38;5;241m-\u001b[39m\u001b[38;5;241m1\u001b[39m, n\u001b[38;5;241m<\u001b[39m\u001b[38;5;241m=\u001b[39mN) \u001b[38;5;28;01mfor\u001b[39;00m board \u001b[38;5;129;01min\u001b[39;00m boards \u001b[38;5;28;01mfor\u001b[39;00m n \u001b[38;5;129;01min\u001b[39;00m board[\u001b[38;5;241m0\u001b[39m]\u001b[38;5;241m.\u001b[39mravel()]\n\u001b[0;32m----> 7\u001b[0m s \u001b[38;5;241m+\u001b[39m\u001b[38;5;241m=\u001b[39m [If(board[\u001b[38;5;241m0\u001b[39m][i][j]\u001b[38;5;241m>\u001b[39m\u001b[38;5;241m=\u001b[39m\u001b[38;5;241m0\u001b[39m, X[i][j]\u001b[38;5;241m==\u001b[39mboard[\u001b[38;5;241m0\u001b[39m][i][j], \u001b[38;5;28;01mTrue\u001b[39;00m) \u001b[38;5;28;01mfor\u001b[39;00m (board,_) \u001b[38;5;129;01min\u001b[39;00m boards[:\u001b[38;5;241m-\u001b[39m\u001b[38;5;241m1\u001b[39m] \u001b[38;5;28;01mfor\u001b[39;00m (i,j),e \u001b[38;5;129;01min\u001b[39;00m np\u001b[38;5;241m.\u001b[39mndenumerate(\u001b[43mboard\u001b[49m\u001b[43m[\u001b[49m\u001b[38;5;241;43m0\u001b[39;49m\u001b[43m]\u001b[49m)]\n\u001b[1;32m      8\u001b[0m s \u001b[38;5;241m+\u001b[39m\u001b[38;5;241m=\u001b[39m [PbEq([(e\u001b[38;5;241m==\u001b[39mn, \u001b[38;5;241m1\u001b[39m) \u001b[38;5;28;01mfor\u001b[39;00m e \u001b[38;5;129;01min\u001b[39;00m board[\u001b[38;5;241m0\u001b[39m]\u001b[38;5;241m.\u001b[39mravel()], \u001b[38;5;241m1\u001b[39m) \u001b[38;5;28;01mfor\u001b[39;00m n \u001b[38;5;129;01min\u001b[39;00m \u001b[38;5;28mrange\u001b[39m(\u001b[38;5;241m1\u001b[39m, N\u001b[38;5;241m+\u001b[39m\u001b[38;5;241m1\u001b[39m) \u001b[38;5;28;01mfor\u001b[39;00m (board,_) \u001b[38;5;129;01min\u001b[39;00m boards[:\u001b[38;5;241m-\u001b[39m\u001b[38;5;241m1\u001b[39m]]\n\u001b[1;32m      9\u001b[0m s \u001b[38;5;241m+\u001b[39m\u001b[38;5;241m=\u001b[39m [PbEq([(e\u001b[38;5;241m==\u001b[39mn, \u001b[38;5;241m1\u001b[39m) \u001b[38;5;28;01mfor\u001b[39;00m e \u001b[38;5;129;01min\u001b[39;00m X\u001b[38;5;241m.\u001b[39mravel()], \u001b[38;5;28mlen\u001b[39m(boards)\u001b[38;5;241m-\u001b[39m\u001b[38;5;241m1\u001b[39m) \u001b[38;5;28;01mfor\u001b[39;00m n \u001b[38;5;129;01min\u001b[39;00m \u001b[38;5;28mrange\u001b[39m(\u001b[38;5;241m1\u001b[39m, N\u001b[38;5;241m+\u001b[39m\u001b[38;5;241m1\u001b[39m)]\n",
      "\u001b[0;31mIndexError\u001b[0m: index 0 is out of bounds for axis 0 with size 0"
     ]
    }
   ],
   "source": [
    "s = Solver()\n",
    "N = len(row_prods)\n",
    "queen, king, knight, bishop, rook, X = mb('q', N), mb('k', N), mb('n', N), mb('b', N), mb('r', N), mb('x', N)\n",
    "boards = [(queen, queen_moves), (king, king_moves), (knight, knight_moves), (bishop, bishop_moves), (rook, rook_moves), (X, None)]\n",
    "\n",
    "s += [And(n>=-1, n<=N) for board in boards for n in board[0].ravel()]\n",
    "s += [If(board[0][i][j]>=0, X[i][j]==board[0][i][j], True) for (board,_) in boards[:-1] for (i,j),e in np.ndenumerate(board[0])]\n",
    "s += [PbEq([(e==n, 1) for e in board[0].ravel()], 1) for n in range(1, N+1) for (board,_) in boards[:-1]]\n",
    "s += [PbEq([(e==n, 1) for e in X.ravel()], len(boards)-1) for n in range(1, N+1)]\n",
    "\n",
    "s += [Or(val<=0, PbEq([(board[k][l]==val-1, 1) for k,l in moves(i,j,N)], 1)) for (i,j),val in np.ndenumerate(X) for board,moves in boards[:-1]]\n",
    "s += [Implies(board[i][j]==n, X[k][l]!=n) for (i,j),_ in np.ndenumerate(X) for k,l in moves(i,j,N) for n in range(1, N+1) for board,moves in boards[:-1]]\n",
    "\n",
    "s += [np.prod(If(And(X[row][col]>0, X[row][col]<N), X[row][col], 1) for col in range(N))==row_prods[row] for row in range(N)]\n",
    "s += [np.prod(If(And(X[row][col]>0, X[row][col]<N), X[row][col], 1) for row in range(N))==col_prods[col] for col in range(N)]\n",
    "\n",
    "\n"
   ]
  },
  {
   "cell_type": "code",
   "execution_count": null,
   "metadata": {},
   "outputs": [],
   "source": []
  },
  {
   "cell_type": "code",
   "execution_count": null,
   "metadata": {},
   "outputs": [],
   "source": []
  }
 ],
 "metadata": {
  "kernelspec": {
   "display_name": "Python 3",
   "language": "python",
   "name": "python3"
  },
  "language_info": {
   "codemirror_mode": {
    "name": "ipython",
    "version": 3
   },
   "file_extension": ".py",
   "mimetype": "text/x-python",
   "name": "python",
   "nbconvert_exporter": "python",
   "pygments_lexer": "ipython3",
   "version": "3.12.1"
  }
 },
 "nbformat": 4,
 "nbformat_minor": 2
}
