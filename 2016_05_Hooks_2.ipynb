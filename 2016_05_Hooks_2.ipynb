{
  "nbformat": 4,
  "nbformat_minor": 0,
  "metadata": {
    "colab": {
      "name": "2016_05_Hooks_2.ipynb",
      "provenance": [],
      "authorship_tag": "ABX9TyN32m1kao5X1W7C8SsGkcUA",
      "include_colab_link": true
    },
    "kernelspec": {
      "name": "python3",
      "display_name": "Python 3"
    },
    "language_info": {
      "name": "python"
    }
  },
  "cells": [
    {
      "cell_type": "markdown",
      "metadata": {
        "id": "view-in-github",
        "colab_type": "text"
      },
      "source": [
        "<a href=\"https://colab.research.google.com/github/evansemet/Jane-Street-Solutions/blob/main/2016_05_Hooks_2.ipynb\" target=\"_parent\"><img src=\"https://colab.research.google.com/assets/colab-badge.svg\" alt=\"Open In Colab\"/></a>"
      ]
    },
    {
      "cell_type": "code",
      "execution_count": 293,
      "metadata": {
        "colab": {
          "base_uri": "https://localhost:8080/"
        },
        "id": "1vbetjKjEp2F",
        "outputId": "fcc44175-2533-4dbe-c295-7e43890578b1"
      },
      "outputs": [
        {
          "output_type": "stream",
          "name": "stdout",
          "text": [
            "Looking in indexes: https://pypi.org/simple, https://us-python.pkg.dev/colab-wheels/public/simple/\n",
            "Requirement already satisfied: z3-solver in /usr/local/lib/python3.7/dist-packages (4.10.1.0)\n"
          ]
        }
      ],
      "source": [
        "!pip install z3-solver\n",
        "from copy import copy, deepcopy\n",
        "import matplotlib.pyplot as plt\n",
        "import numpy as np\n",
        "import seaborn as sns\n",
        "import time\n",
        "from z3 import *"
      ]
    },
    {
      "cell_type": "code",
      "source": [
        "row_tot = np.array([45, 44, 4, 48, 7, 14, 47, 43, 33], dtype=int)\n",
        "col_tot = np.array([36, 5, 47, 35, 17, 30, 21, 49, 45], dtype=int)"
      ],
      "metadata": {
        "id": "ueZFm19UEy6Y"
      },
      "execution_count": 294,
      "outputs": []
    },
    {
      "cell_type": "code",
      "source": [
        "nine0 = np.array([[9,9,9,9,9,9,9,9,9],\n",
        "                  [0,0,0,0,0,0,0,0,9],\n",
        "                  [0,0,0,0,0,0,0,0,9],\n",
        "                  [0,0,0,0,0,0,0,0,9],\n",
        "                  [0,0,0,0,0,0,0,0,9],\n",
        "                  [0,0,0,0,0,0,0,0,9],\n",
        "                  [0,0,0,0,0,0,0,0,9],\n",
        "                  [0,0,0,0,0,0,0,0,9],\n",
        "                  [0,0,0,0,0,0,0,0,9]], dtype=int)\n",
        "\n",
        "eight0 = np.array([[8,8,8,8,8,8,8,8],\n",
        "                   [0,0,0,0,0,0,0,8],\n",
        "                   [0,0,0,0,0,0,0,8],\n",
        "                   [0,0,0,0,0,0,0,8],\n",
        "                   [0,0,0,0,0,0,0,8],\n",
        "                   [0,0,0,0,0,0,0,8],\n",
        "                   [0,0,0,0,0,0,0,8],\n",
        "                   [0,0,0,0,0,0,0,8]], dtype=int)\n",
        "\n",
        "seven0 = np.array([[7,7,7,7,7,7,7],\n",
        "                   [0,0,0,0,0,0,7],\n",
        "                   [0,0,0,0,0,0,7],\n",
        "                   [0,0,0,0,0,0,7],\n",
        "                   [0,0,0,0,0,0,7],\n",
        "                   [0,0,0,0,0,0,7],\n",
        "                   [0,0,0,0,0,0,7]], dtype=int)\n",
        "\n",
        "six0 = np.array([[6,6,6,6,6,6],\n",
        "                 [0,0,0,0,0,6],\n",
        "                 [0,0,0,0,0,6],\n",
        "                 [0,0,0,0,0,6],\n",
        "                 [0,0,0,0,0,6],\n",
        "                 [0,0,0,0,0,6]], dtype=int)\n",
        "\n",
        "five0 = np.array([[5,5,5,5,5],\n",
        "                  [0,0,0,0,5],\n",
        "                  [0,0,0,0,5],\n",
        "                  [0,0,0,0,5],\n",
        "                  [0,0,0,0,5]], dtype=int)\n",
        "\n",
        "four0 = np.array([[4,4,4,4],\n",
        "                  [0,0,0,4],\n",
        "                  [0,0,0,4],\n",
        "                  [0,0,0,4]], dtype=int)\n",
        "\n",
        "three0 = np.array([[3,3,3],\n",
        "                   [0,0,3],\n",
        "                   [0,0,3]], dtype=int)\n",
        "\n",
        "two0 = np.array([[2,2],\n",
        "                 [0,2]], dtype=int)"
      ],
      "metadata": {
        "id": "srJu3KtjuJCT"
      },
      "execution_count": 295,
      "outputs": []
    },
    {
      "cell_type": "code",
      "source": [
        "def rotate(A):\n",
        "  B = deepcopy(A); N = len(B[0])\n",
        "  for i in range(N // 2):\n",
        "    for j in range(i, N - i - 1):\n",
        "      temp = B[i][j]\n",
        "      B[i][j] = B[N - 1 - j][i]\n",
        "      B[N - 1 - j][i] = B[N - 1 - i][N - 1 - j]\n",
        "      B[N - 1 - i][N - 1 - j] = B[j][N - 1 - i]\n",
        "      B[j][N - 1 - i] = temp\n",
        "  return B\n",
        "\n",
        "nine1 = rotate(nine0); nine2 = rotate(nine1); nine3 = rotate(nine2)\n",
        "nines = [nine0, nine1, nine2, nine3]\n",
        "\n",
        "eight1 = rotate(eight0); eight2 = rotate(eight1); eight3 = rotate(eight2)\n",
        "eights = [eight0, eight1, eight2, eight3]\n",
        "\n",
        "seven1 = rotate(seven0); seven2 = rotate(seven1); seven3 = rotate(seven2)\n",
        "sevens = [seven0, seven1, seven2, seven3]\n",
        "\n",
        "six1 = rotate(six0); six2 = rotate(six1); six3 = rotate(six2)\n",
        "sixes = [six0, six1, six2, six3]\n",
        "\n",
        "five1 = rotate(five0); five2 = rotate(five1); five3 = rotate(five2)\n",
        "fives = [five0, five1, five2, five3]\n",
        "\n",
        "four1 = rotate(four0); four2 = rotate(four1); four3 = rotate(four2)\n",
        "fours = [four0, four1, four2, four3]\n",
        "\n",
        "three1 = rotate(three0); three2 = rotate(three1); three3 = rotate(three2)\n",
        "threes = [three0, three1, three2, three3]\n",
        "\n",
        "two1 = rotate(two0); two2 = rotate(two1); two3 = rotate(two2)\n",
        "twos = [two0, two1, two2, two3]"
      ],
      "metadata": {
        "id": "a9lWnnYwwTEh"
      },
      "execution_count": 296,
      "outputs": []
    },
    {
      "cell_type": "code",
      "source": [
        "def grid_combos():\n",
        "  grids = []\n",
        "  #we know that the eight and nine can only go in one position\n",
        "  for a in range(4):\n",
        "    for b in range(4):\n",
        "      for c in range(4):\n",
        "        for d in range(4):\n",
        "          for e in range(4):\n",
        "            for f in range(4):\n",
        "              grid = [0,1,a,b,c,d,e,f]\n",
        "              grids.append(grid)\n",
        "  return grids\n",
        "\n",
        "possible_grids = grid_combos()"
      ],
      "metadata": {
        "id": "EylRi6JT74gS"
      },
      "execution_count": 297,
      "outputs": []
    },
    {
      "cell_type": "code",
      "source": [
        "def solve(possible):\n",
        "  Y = np.array(IntVector(\"y\", 9**2), dtype=object).reshape((9, 9))\n",
        "  s = Solver()\n",
        "\n",
        "  for n in range(1, 10):\n",
        "    s += PbEq([(Y[i][j] == n, 1) for j in range(9) for i in range(9)], n * 2 - 1)\n",
        "\n",
        "  # we already knew where the 8 and 9 hook went\n",
        "  s += And([Xor(Y[i][j] == int(val), Y[i][j] == 0) for (i,j),val in np.ndenumerate(nines[possible[0]]) if val])\n",
        "  s += And([Xor(Y[i+1][j] == int(val), Y[i][j] == 0) for (i,j),val in np.ndenumerate(eights[possible[1]]) if val])\n",
        "\n",
        "  # place the 7 hook\n",
        "  s += And([(Y[i+1][j] == int(val)) for (i,j),val in np.ndenumerate(sevens[possible[2]]) if val])\n",
        "\n",
        "  # place the 6 hook\n",
        "  six_hooks = []\n",
        "  for b in range(1,4):\n",
        "    for c in range(2):\n",
        "      six_hooks.append(And([(Y[i+b][j+c] == int(val)) for (i,j),val in np.ndenumerate(sixes[possible[3]]) if val]))\n",
        "  s += PbEq([(hook, 1) for hook in six_hooks], 1)\n",
        "\n",
        "  # place the 5 hook\n",
        "  five_hooks = []\n",
        "  for b in range(1,5):\n",
        "    for c in range(3):\n",
        "      five_hooks.append(And([(Y[i+b][j+c] == int(val)) for (i,j),val in np.ndenumerate(fives[possible[4]]) if val]))\n",
        "  s += PbEq([(hook, 1) for hook in five_hooks], 1)\n",
        "\n",
        "  # place the 4 hook\n",
        "  four_hooks = []\n",
        "  for b in range(1,6):\n",
        "    for c in range(4):\n",
        "      four_hooks.append(And([(Y[i+b][j+c] == int(val)) for (i,j),val in np.ndenumerate(fours[possible[5]]) if val]))\n",
        "  s += PbEq([(hook, 1) for hook in four_hooks], 1)\n",
        "\n",
        "  # place the 3 hook\n",
        "  three_hooks = []\n",
        "  for b in range(1,7):\n",
        "    for c in range(5):\n",
        "      three_hooks.append(And([(Y[i+b][j+c] == int(val)) for (i,j),val in np.ndenumerate(threes[possible[6]]) if val]))\n",
        "  s += PbEq([(hook, 1) for hook in three_hooks], 1)\n",
        "\n",
        "  # place the 2 hook\n",
        "  two_hooks = []\n",
        "  for b in range(1,8):\n",
        "    for c in range(6):\n",
        "      two_hooks.append(And([(Y[i+b][j+c] == int(val)) for (i,j),val in np.ndenumerate(twos[possible[7]]) if val]))\n",
        "  s += PbEq([(hook, 1) for hook in two_hooks], 1)\n",
        "\n",
        "  X = np.array(IntVector(\"x\", 9**2), dtype=object).reshape((9, 9))\n",
        "  # makes sure each number is from 0 to 9 and the sums match the given values\n",
        "  s += [And(val >= 0, val <= 9) for val in X.ravel()]\n",
        "  s += [np.sum(X[r, :]) == int(e) for r, e in np.ndenumerate(row_tot)]\n",
        "  s += [np.sum(X[:, c]) == int(e) for c, e in np.ndenumerate(col_tot)]\n",
        "\n",
        "  # make sure that each number is either the same as in Y or 0\n",
        "  s += [Xor(val == 0, val == Y[i][j]) for (i,j),val in np.ndenumerate(X)]\n",
        "\n",
        "  # only n instances of n  \n",
        "  for n in range(1, 10):\n",
        "    s += PbEq([(X[i][j] == n, 1) for j in range(9) for i in range(9)], n)\n",
        "  \n",
        "  if s.check() == sat:\n",
        "    m = s.model()\n",
        "    evalu = np.vectorize(lambda x: m.evaluate(x).as_long())\n",
        "    r = evalu(X)\n",
        "    r2 = evalu(Y)\n",
        "    fig, ax = plt.subplots(1, 1, figsize=(5, 5))\n",
        "    ax = sns.heatmap(r2, annot=r, cbar=False, cmap=\"tab20\", linecolor='k', linewidth=2, annot_kws={\"fontsize\":14})\n",
        "    ax.axis(\"off\")\n",
        "    return True\n",
        "  else:\n",
        "    return False"
      ],
      "metadata": {
        "id": "EX4a6TAh9p1y"
      },
      "execution_count": 298,
      "outputs": []
    },
    {
      "cell_type": "code",
      "source": [
        "start = time.time()\n",
        "solved = False\n",
        "for trial in range(len(possible_grids)):\n",
        "  if solve(possible_grids[trial]):\n",
        "    solved = True\n",
        "    break\n",
        "if solved:\n",
        "  print(f\"Solved in {time.time() - start} seconds.\") \n",
        "else:\n",
        "  print(f\"Failed in {time.time() - start} seconds.\")"
      ],
      "metadata": {
        "colab": {
          "base_uri": "https://localhost:8080/",
          "height": 321
        },
        "id": "k3GqkXKLAaQO",
        "outputId": "d75b1c50-8b8f-42fc-d7f7-c5abb3dea5ec"
      },
      "execution_count": 299,
      "outputs": [
        {
          "output_type": "stream",
          "name": "stdout",
          "text": [
            "Solved in 812.9403803348541 seconds.\n"
          ]
        },
        {
          "output_type": "display_data",
          "data": {
            "text/plain": [
              "<Figure size 360x360 with 1 Axes>"
            ],
            "image/png": "[encoded data removed]"
          },
          "metadata": {
            "needs_background": "light"
          }
        }
      ]
    }
  ]
}