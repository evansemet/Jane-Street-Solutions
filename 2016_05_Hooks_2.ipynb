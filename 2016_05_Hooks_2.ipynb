{
  "cells": [
    {
      "cell_type": "code",
      "execution_count": 11,
      "metadata": {
        "colab": {
          "base_uri": "https://localhost:8080/"
        },
        "id": "1vbetjKjEp2F",
        "outputId": "fcc44175-2533-4dbe-c295-7e43890578b1"
      },
      "outputs": [],
      "source": [
        "from z3 import *\n",
        "import numpy as np\n",
        "from itertools import product\n",
        "import matplotlib.pyplot as plt\n",
        "import seaborn as sns\n",
        "from IPython.display import Markdown, display\n",
        "import time"
      ]
    },
    {
      "cell_type": "code",
      "execution_count": 12,
      "metadata": {
        "id": "ueZFm19UEy6Y"
      },
      "outputs": [],
      "source": [
        "row_tot = np.array([45, 44, 4, 48, 7, 14, 47, 43, 33], dtype=int)\n",
        "col_tot = np.array([36, 5, 47, 35, 17, 30, 21, 49, 45], dtype=int)\n",
        "\n",
        "def sol_print(numbers: np.ndarray, hooks: np.ndarray) -> None:\n",
        "    _,ax = plt.subplots(1,1,figsize=(8,8))\n",
        "    x = np.array((numbers).astype('int').astype('str'))\n",
        "    x[x==\"0\"] = \"-\"\n",
        "    ax = sns.heatmap(hooks,annot=x,cbar=False,cmap=\"tab10\",fmt=\"\",linewidths=0.25,annot_kws={\"fontsize\":12})\n",
        "    ax.set_xticks([])\n",
        "    ax.set_yticks([])\n",
        "    plt.tight_layout()\n",
        "    plt.show()"
      ]
    },
    {
      "cell_type": "code",
      "execution_count": 13,
      "metadata": {},
      "outputs": [],
      "source": [
        "def make_hooks(n: int) -> np.ndarray:\n",
        "    matrix = np.ones((n, n), dtype=int) * (2*n -1)\n",
        "    matrix[1:,1:] = 0\n",
        "    return [np.rot90(matrix, i) for i in range(4)]\n",
        "\n",
        "hook_17, hook_15, hook_13, hook_11, hook_9, hook_7, hook_5, hook_3 = \\\n",
        "    make_hooks(9), make_hooks(8), make_hooks(7), make_hooks(6), make_hooks(5), make_hooks(4), make_hooks(3), make_hooks(2)\n",
        "    \n",
        "orthagonal = lambda i, j, N: [(i+di, j+dj) for (di,dj) in [(0,1),(1,0),(0,-1),(-1,0)] if 0<=i+di<N and 0<=j+dj<N]\n",
        "\n",
        "def hook_constraint(hook_number: int, board: np.ndarray, N: int) -> PbEq:\n",
        "    hook = dict[int, list]({17: hook_17, 15: hook_15, 13: hook_13, 11: hook_11, 9: hook_9, 7: hook_7, 5: hook_5, 3: hook_3}).get(hook_number)\n",
        "    shift = N+1 - (hook_number + 1) // 2\n",
        "    conditions = list[And]()\n",
        "    for shift_i, shift_j, h in product(range(shift), range(shift), hook):\n",
        "        conditions.append(And([board[i+shift_i][j+shift_j]==e for (i,j),e in np.ndenumerate(h) if e]))\n",
        "    return PbEq([(cond, 1) for cond in conditions], 1)"
      ]
    },
    {
      "cell_type": "code",
      "execution_count": 15,
      "metadata": {
        "colab": {
          "base_uri": "https://localhost:8080/",
          "height": 321
        },
        "id": "k3GqkXKLAaQO",
        "outputId": "d75b1c50-8b8f-42fc-d7f7-c5abb3dea5ec"
      },
      "outputs": [
        {
          "data": {
            "text/markdown": [
              "## Solved in 0.781 seconds"
            ],
            "text/plain": [
              "<IPython.core.display.Markdown object>"
            ]
          },
          "metadata": {},
          "output_type": "display_data"
        },
        {
          "data": {
            "image/png": "[encoded data removed]",
            "text/plain": [
              "<Figure size 800x800 with 1 Axes>"
            ]
          },
          "metadata": {},
          "output_type": "display_data"
        }
      ],
      "source": [
        "start = time.time()\n",
        "N = len(row_tot)\n",
        "s = Solver()\n",
        "Y = np.array(IntVector(\"y\", N**2), dtype=object).reshape((N,N))\n",
        "X = np.array(IntVector(\"x\", N**2), dtype=object).reshape((N,N))\n",
        "\n",
        "s += [And(val >= 0, val <= 9) for val in X.ravel()]\n",
        "s += [And(val >= 1, val <= 17) for val in Y.ravel()]\n",
        "s += [np.sum(X[r, :]) == int(e) for r, e in np.ndenumerate(row_tot)]\n",
        "s += [np.sum(X[:, c]) == int(e) for c, e in np.ndenumerate(col_tot)]\n",
        "s += Or([val==1 for val in Y.ravel()])\n",
        "s += [PbEq([(X[i][j] == n, 1) for (i,j),_ in np.ndenumerate(X)], n) for n in range(1, N+1)]\n",
        "\n",
        "for hook_number in [17, 15, 13, 11, 9, 7, 5, 3]:\n",
        "    s += hook_constraint(hook_number=hook_number, board=Y, N=N)\n",
        "\n",
        "s += [Implies(Y[i][j]==1, X[i][j]==1) for (i,j),_ in np.ndenumerate(X)]\n",
        "y_to_x_mapping = dict[int, list]({17: 9, 15: 8, 13: 7, 11: 6, 9: 5, 7: 4, 5: 3, 3: 2})\n",
        "for y_value, x_variable in y_to_x_mapping.items():\n",
        "    s += [Implies(Y[i][j]==y_value, Or(X[i][j]==x_variable, X[i][j] == 0)) for (i,j),_ in np.ndenumerate(Y)]\n",
        "\n",
        "if s.check():\n",
        "    display(Markdown('## Solved in {:.3f} seconds'.format(time.time()-start)))\n",
        "    m = s.model()\n",
        "    evalu = np.vectorize(lambda x: m.evaluate(x).as_long())\n",
        "    sol_print(numbers= evalu(X), hooks=evalu(Y))"
      ]
    }
  ],
  "metadata": {
    "colab": {
      "authorship_tag": "ABX9TyN32m1kao5X1W7C8SsGkcUA",
      "include_colab_link": true,
      "name": "2016_05_Hooks_2.ipynb",
      "provenance": []
    },
    "kernelspec": {
      "display_name": "Python 3",
      "name": "python3"
    },
    "language_info": {
      "codemirror_mode": {
        "name": "ipython",
        "version": 3
      },
      "file_extension": ".py",
      "mimetype": "text/x-python",
      "name": "python",
      "nbconvert_exporter": "python",
      "pygments_lexer": "ipython3",
      "version": "3.12.1"
    }
  },
  "nbformat": 4,
  "nbformat_minor": 0
}
